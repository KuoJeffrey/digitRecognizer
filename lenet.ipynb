{
  "nbformat": 4,
  "nbformat_minor": 0,
  "metadata": {
    "accelerator": "TPU",
    "colab": {
      "name": "lenet.ipynb",
      "provenance": [],
      "collapsed_sections": [],
      "authorship_tag": "ABX9TyM5Ik9hYi1Qq5eLUJ6aPp+O",
      "include_colab_link": true
    },
    "kernelspec": {
      "display_name": "Python 3",
      "name": "python3"
    },
    "language_info": {
      "name": "python"
    }
  },
  "cells": [
    {
      "cell_type": "markdown",
      "metadata": {
        "id": "view-in-github",
        "colab_type": "text"
      },
      "source": [
        "<a href=\"https://colab.research.google.com/github/KuoJeffrey/digitRecognizer/blob/master/lenet.ipynb\" target=\"_parent\"><img src=\"https://colab.research.google.com/assets/colab-badge.svg\" alt=\"Open In Colab\"/></a>"
      ]
    },
    {
      "cell_type": "code",
      "metadata": {
        "colab": {
          "base_uri": "https://localhost:8080/"
        },
        "id": "Z_7yylfae0dU",
        "outputId": "2d682c66-0168-4ceb-9ffb-20d046c58a92"
      },
      "source": [
        "# TPU initialization\n",
        "import tensorflow as tf\n",
        "resolver = tf.distribute.cluster_resolver.TPUClusterResolver()\n",
        "tf.config.experimental_connect_to_cluster(resolver)\n",
        "\n",
        "# This is the TPU initialization code that has to be at the beginning.\n",
        "tf.tpu.experimental.initialize_tpu_system(resolver)\n",
        "strategy = tf.distribute.TPUStrategy(resolver)\n",
        "print(\"All devices: \", tf.config.list_logical_devices('TPU'))"
      ],
      "execution_count": null,
      "outputs": [
        {
          "name": "stdout",
          "output_type": "stream",
          "text": [
            "INFO:tensorflow:Deallocate tpu buffers before initializing tpu system.\n"
          ]
        },
        {
          "name": "stderr",
          "output_type": "stream",
          "text": [
            "INFO:tensorflow:Deallocate tpu buffers before initializing tpu system.\n"
          ]
        },
        {
          "name": "stdout",
          "output_type": "stream",
          "text": [
            "WARNING:tensorflow:TPU system grpc://10.29.135.242:8470 has already been initialized. Reinitializing the TPU can cause previously created variables on TPU to be lost.\n"
          ]
        },
        {
          "name": "stderr",
          "output_type": "stream",
          "text": [
            "WARNING:tensorflow:TPU system grpc://10.29.135.242:8470 has already been initialized. Reinitializing the TPU can cause previously created variables on TPU to be lost.\n"
          ]
        },
        {
          "name": "stdout",
          "output_type": "stream",
          "text": [
            "INFO:tensorflow:Initializing the TPU system: grpc://10.29.135.242:8470\n"
          ]
        },
        {
          "name": "stderr",
          "output_type": "stream",
          "text": [
            "INFO:tensorflow:Initializing the TPU system: grpc://10.29.135.242:8470\n"
          ]
        },
        {
          "name": "stdout",
          "output_type": "stream",
          "text": [
            "INFO:tensorflow:Finished initializing TPU system.\n"
          ]
        },
        {
          "name": "stderr",
          "output_type": "stream",
          "text": [
            "INFO:tensorflow:Finished initializing TPU system.\n"
          ]
        },
        {
          "name": "stdout",
          "output_type": "stream",
          "text": [
            "INFO:tensorflow:Found TPU system:\n"
          ]
        },
        {
          "name": "stderr",
          "output_type": "stream",
          "text": [
            "INFO:tensorflow:Found TPU system:\n"
          ]
        },
        {
          "name": "stdout",
          "output_type": "stream",
          "text": [
            "INFO:tensorflow:*** Num TPU Cores: 8\n"
          ]
        },
        {
          "name": "stderr",
          "output_type": "stream",
          "text": [
            "INFO:tensorflow:*** Num TPU Cores: 8\n"
          ]
        },
        {
          "name": "stdout",
          "output_type": "stream",
          "text": [
            "INFO:tensorflow:*** Num TPU Workers: 1\n"
          ]
        },
        {
          "name": "stderr",
          "output_type": "stream",
          "text": [
            "INFO:tensorflow:*** Num TPU Workers: 1\n"
          ]
        },
        {
          "name": "stdout",
          "output_type": "stream",
          "text": [
            "INFO:tensorflow:*** Num TPU Cores Per Worker: 8\n"
          ]
        },
        {
          "name": "stderr",
          "output_type": "stream",
          "text": [
            "INFO:tensorflow:*** Num TPU Cores Per Worker: 8\n"
          ]
        },
        {
          "name": "stdout",
          "output_type": "stream",
          "text": [
            "INFO:tensorflow:*** Available Device: _DeviceAttributes(/job:localhost/replica:0/task:0/device:CPU:0, CPU, 0, 0)\n"
          ]
        },
        {
          "name": "stderr",
          "output_type": "stream",
          "text": [
            "INFO:tensorflow:*** Available Device: _DeviceAttributes(/job:localhost/replica:0/task:0/device:CPU:0, CPU, 0, 0)\n"
          ]
        },
        {
          "name": "stdout",
          "output_type": "stream",
          "text": [
            "INFO:tensorflow:*** Available Device: _DeviceAttributes(/job:worker/replica:0/task:0/device:CPU:0, CPU, 0, 0)\n"
          ]
        },
        {
          "name": "stderr",
          "output_type": "stream",
          "text": [
            "INFO:tensorflow:*** Available Device: _DeviceAttributes(/job:worker/replica:0/task:0/device:CPU:0, CPU, 0, 0)\n"
          ]
        },
        {
          "name": "stdout",
          "output_type": "stream",
          "text": [
            "INFO:tensorflow:*** Available Device: _DeviceAttributes(/job:worker/replica:0/task:0/device:TPU:0, TPU, 0, 0)\n"
          ]
        },
        {
          "name": "stderr",
          "output_type": "stream",
          "text": [
            "INFO:tensorflow:*** Available Device: _DeviceAttributes(/job:worker/replica:0/task:0/device:TPU:0, TPU, 0, 0)\n"
          ]
        },
        {
          "name": "stdout",
          "output_type": "stream",
          "text": [
            "INFO:tensorflow:*** Available Device: _DeviceAttributes(/job:worker/replica:0/task:0/device:TPU:1, TPU, 0, 0)\n"
          ]
        },
        {
          "name": "stderr",
          "output_type": "stream",
          "text": [
            "INFO:tensorflow:*** Available Device: _DeviceAttributes(/job:worker/replica:0/task:0/device:TPU:1, TPU, 0, 0)\n"
          ]
        },
        {
          "name": "stdout",
          "output_type": "stream",
          "text": [
            "INFO:tensorflow:*** Available Device: _DeviceAttributes(/job:worker/replica:0/task:0/device:TPU:2, TPU, 0, 0)\n"
          ]
        },
        {
          "name": "stderr",
          "output_type": "stream",
          "text": [
            "INFO:tensorflow:*** Available Device: _DeviceAttributes(/job:worker/replica:0/task:0/device:TPU:2, TPU, 0, 0)\n"
          ]
        },
        {
          "name": "stdout",
          "output_type": "stream",
          "text": [
            "INFO:tensorflow:*** Available Device: _DeviceAttributes(/job:worker/replica:0/task:0/device:TPU:3, TPU, 0, 0)\n"
          ]
        },
        {
          "name": "stderr",
          "output_type": "stream",
          "text": [
            "INFO:tensorflow:*** Available Device: _DeviceAttributes(/job:worker/replica:0/task:0/device:TPU:3, TPU, 0, 0)\n"
          ]
        },
        {
          "name": "stdout",
          "output_type": "stream",
          "text": [
            "INFO:tensorflow:*** Available Device: _DeviceAttributes(/job:worker/replica:0/task:0/device:TPU:4, TPU, 0, 0)\n"
          ]
        },
        {
          "name": "stderr",
          "output_type": "stream",
          "text": [
            "INFO:tensorflow:*** Available Device: _DeviceAttributes(/job:worker/replica:0/task:0/device:TPU:4, TPU, 0, 0)\n"
          ]
        },
        {
          "name": "stdout",
          "output_type": "stream",
          "text": [
            "INFO:tensorflow:*** Available Device: _DeviceAttributes(/job:worker/replica:0/task:0/device:TPU:5, TPU, 0, 0)\n"
          ]
        },
        {
          "name": "stderr",
          "output_type": "stream",
          "text": [
            "INFO:tensorflow:*** Available Device: _DeviceAttributes(/job:worker/replica:0/task:0/device:TPU:5, TPU, 0, 0)\n"
          ]
        },
        {
          "name": "stdout",
          "output_type": "stream",
          "text": [
            "INFO:tensorflow:*** Available Device: _DeviceAttributes(/job:worker/replica:0/task:0/device:TPU:6, TPU, 0, 0)\n"
          ]
        },
        {
          "name": "stderr",
          "output_type": "stream",
          "text": [
            "INFO:tensorflow:*** Available Device: _DeviceAttributes(/job:worker/replica:0/task:0/device:TPU:6, TPU, 0, 0)\n"
          ]
        },
        {
          "name": "stdout",
          "output_type": "stream",
          "text": [
            "INFO:tensorflow:*** Available Device: _DeviceAttributes(/job:worker/replica:0/task:0/device:TPU:7, TPU, 0, 0)\n"
          ]
        },
        {
          "name": "stderr",
          "output_type": "stream",
          "text": [
            "INFO:tensorflow:*** Available Device: _DeviceAttributes(/job:worker/replica:0/task:0/device:TPU:7, TPU, 0, 0)\n"
          ]
        },
        {
          "name": "stdout",
          "output_type": "stream",
          "text": [
            "INFO:tensorflow:*** Available Device: _DeviceAttributes(/job:worker/replica:0/task:0/device:TPU_SYSTEM:0, TPU_SYSTEM, 0, 0)\n"
          ]
        },
        {
          "name": "stderr",
          "output_type": "stream",
          "text": [
            "INFO:tensorflow:*** Available Device: _DeviceAttributes(/job:worker/replica:0/task:0/device:TPU_SYSTEM:0, TPU_SYSTEM, 0, 0)\n"
          ]
        },
        {
          "name": "stdout",
          "output_type": "stream",
          "text": [
            "INFO:tensorflow:*** Available Device: _DeviceAttributes(/job:worker/replica:0/task:0/device:XLA_CPU:0, XLA_CPU, 0, 0)\n"
          ]
        },
        {
          "name": "stderr",
          "output_type": "stream",
          "text": [
            "INFO:tensorflow:*** Available Device: _DeviceAttributes(/job:worker/replica:0/task:0/device:XLA_CPU:0, XLA_CPU, 0, 0)\n"
          ]
        },
        {
          "name": "stdout",
          "output_type": "stream",
          "text": [
            "All devices:  [LogicalDevice(name='/job:worker/replica:0/task:0/device:TPU:0', device_type='TPU'), LogicalDevice(name='/job:worker/replica:0/task:0/device:TPU:1', device_type='TPU'), LogicalDevice(name='/job:worker/replica:0/task:0/device:TPU:2', device_type='TPU'), LogicalDevice(name='/job:worker/replica:0/task:0/device:TPU:3', device_type='TPU'), LogicalDevice(name='/job:worker/replica:0/task:0/device:TPU:4', device_type='TPU'), LogicalDevice(name='/job:worker/replica:0/task:0/device:TPU:5', device_type='TPU'), LogicalDevice(name='/job:worker/replica:0/task:0/device:TPU:6', device_type='TPU'), LogicalDevice(name='/job:worker/replica:0/task:0/device:TPU:7', device_type='TPU')]\n"
          ]
        }
      ]
    },
    {
      "cell_type": "code",
      "metadata": {
        "id": "GI5NJSr0_3tI"
      },
      "source": [
        "import numpy as np\n",
        "import pandas as pd\n",
        "from tensorflow import keras\n",
        "from tensorflow.keras import layers, regularizers\n",
        "from tensorflow.keras.preprocessing.image import ImageDataGenerator\n",
        "from sklearn.model_selection import train_test_split\n",
        "from sklearn.preprocessing import OneHotEncoder\n",
        "from matplotlib import pyplot as plt"
      ],
      "execution_count": null,
      "outputs": []
    },
    {
      "cell_type": "code",
      "metadata": {
        "id": "VkwxT84YLxIH"
      },
      "source": [
        "train_data_url = \"digit-recognizer/train.csv\"\n",
        "train_data = pd.read_csv(train_data_url)\n",
        "\n",
        "test_data_url = \"digit-recognizer/test.csv\"\n",
        "test_data = pd.read_csv(test_data_url)\n"
      ],
      "execution_count": null,
      "outputs": []
    },
    {
      "cell_type": "code",
      "metadata": {
        "id": "Rio2Gv6VnA51"
      },
      "source": [
        "BATCH_SIZE = 256\n",
        "EPOCH = 30\n",
        "SEED = 2187256"
      ],
      "execution_count": null,
      "outputs": []
    },
    {
      "cell_type": "code",
      "metadata": {
        "colab": {
          "base_uri": "https://localhost:8080/",
          "height": 281
        },
        "id": "0SutQTUgQE_0",
        "outputId": "994e1f0c-1f61-4a48-9d84-feb1ba801e4a"
      },
      "source": [
        "train_label = pd.get_dummies(train_data.label)\n",
        "train_input = train_data.drop('label', axis=1) / 255\n",
        "\n",
        "x_train, x_val, y_train, y_val = train_test_split(\n",
        "    train_input, train_label, \n",
        "    train_size = 0.8, \n",
        "    test_size = 0.2, \n",
        "    random_state = SEED\n",
        ")\n",
        "\n",
        "x_train = x_train.to_numpy().reshape(33600, 28, 28, 1)\n",
        "x_val = x_val.to_numpy().reshape(8400, 28, 28, 1)\n",
        "x_test = test_data.to_numpy().reshape(28000, 28, 28, 1) / 255\n",
        "\n",
        "plt.figure(\"Train data\")\n",
        "plt.title(\"Train data\")\n",
        "plt.bar(np.array([0, 1, 2, 3, 4, 5, 6, 7, 8, 9]), np.sum(y_train))\n",
        "plt.savefig(\"img/train_data_hist.png\")"
      ],
      "execution_count": null,
      "outputs": [
        {
          "data": {
            "image/png": "[encoded data removed]",
            "text/plain": [
              "<Figure size 432x288 with 1 Axes>"
            ]
          },
          "metadata": {},
          "output_type": "display_data"
        }
      ]
    },
    {
      "cell_type": "code",
      "metadata": {
        "colab": {
          "base_uri": "https://localhost:8080/",
          "height": 513
        },
        "id": "I10_JndZYG9H",
        "outputId": "bc2471d7-458e-4fc6-ff36-dc57aa530e40"
      },
      "source": [
        "# Data augmentation\n",
        "test = x_test[0, :, :, 0]\n",
        "test2 = (test - test.mean()) / test.std()\n",
        "\n",
        "plt.imshow(test)\n",
        "plt.show()\n",
        "plt.imshow(test2)\n",
        "plt.show()"
      ],
      "execution_count": null,
      "outputs": [
        {
          "data": {
            "image/png": "[encoded data removed]",
            "text/plain": [
              "<Figure size 432x288 with 1 Axes>"
            ]
          },
          "metadata": {},
          "output_type": "display_data"
        },
        {
          "data": {
            "image/png": "[encoded data removed]",
            "text/plain": [
              "<Figure size 432x288 with 1 Axes>"
            ]
          },
          "metadata": {},
          "output_type": "display_data"
        }
      ]
    },
    {
      "cell_type": "code",
      "metadata": {
        "colab": {
          "base_uri": "https://localhost:8080/"
        },
        "id": "-Kq_LRiKLVyV",
        "outputId": "6d4e600c-ffa5-48d1-b35f-4c9abb365f79"
      },
      "source": [
        "# Model 1\n",
        "MODEL = \"LeNet\"\n",
        "\n",
        "def model1():\n",
        "  model = keras.Sequential([\n",
        "      \n",
        "      # Convolution layer\n",
        "      layers.Conv2D(filters=6, kernel_size=(3, 3), activation='relu', padding=\"same\", input_shape=(28, 28, 1)),\n",
        "\n",
        "      # Pooling layer\n",
        "      layers.AveragePooling2D(),\n",
        "\n",
        "      # Convolution layer\n",
        "      layers.Conv2D(filters=16, kernel_size=(3, 3), activation='relu'),\n",
        "\n",
        "      # Pooling layer\n",
        "      layers.AveragePooling2D(),\n",
        "\n",
        "      # Fully connected layer\n",
        "      layers.Flatten(),\n",
        "      layers.Dense(units=120, activation='relu'),\n",
        "\n",
        "      # Fully connected layer\n",
        "      layers.Dense(units=84, activation=\"relu\"), \n",
        "\n",
        "      # Output layer\n",
        "      layers.Dense(units=10, activation='softmax')\n",
        "\n",
        "  ])\n",
        "\n",
        "  return model"
      ],
      "execution_count": null,
      "outputs": [
        {
          "name": "stdout",
          "output_type": "stream",
          "text": [
            "Model: \"sequential_3\"\n",
            "_________________________________________________________________\n",
            " Layer (type)                Output Shape              Param #   \n",
            "=================================================================\n",
            " conv2d_14 (Conv2D)          (None, 28, 28, 6)         60        \n",
            "                                                                 \n",
            " average_pooling2d_2 (Averag  (None, 14, 14, 6)        0         \n",
            " ePooling2D)                                                     \n",
            "                                                                 \n",
            " conv2d_15 (Conv2D)          (None, 12, 12, 16)        880       \n",
            "                                                                 \n",
            " average_pooling2d_3 (Averag  (None, 6, 6, 16)         0         \n",
            " ePooling2D)                                                     \n",
            "                                                                 \n",
            " flatten_3 (Flatten)         (None, 576)               0         \n",
            "                                                                 \n",
            " dense_9 (Dense)             (None, 120)               69240     \n",
            "                                                                 \n",
            " dense_10 (Dense)            (None, 84)                10164     \n",
            "                                                                 \n",
            " dense_11 (Dense)            (None, 10)                850       \n",
            "                                                                 \n",
            "=================================================================\n",
            "Total params: 81,194\n",
            "Trainable params: 81,194\n",
            "Non-trainable params: 0\n",
            "_________________________________________________________________\n"
          ]
        }
      ]
    },
    {
      "cell_type": "code",
      "metadata": {
        "colab": {
          "base_uri": "https://localhost:8080/"
        },
        "id": "XxRCxm5Dd4lV",
        "outputId": "93bed865-8d68-4ab5-e5cc-58ae1e49abe9"
      },
      "source": [
        "# Model 2\n",
        "MODEL = \"deepLeNet\"\n",
        "\n",
        "def model2():\n",
        "\n",
        "  model = keras.Sequential([\n",
        "      \n",
        "      # Convolution layer\n",
        "      layers.Conv2D(filters=32, kernel_size=5, activation='relu', padding=\"same\", input_shape=(28, 28, 1), kernel_regularizer=regularizers.l2(0.0005)),\n",
        "      layers.Conv2D(filters=32, kernel_size=5, use_bias=False),\n",
        "\n",
        "      # Batch normalization, activation, maxpooling, dropout\n",
        "      layers.BatchNormalization(),\n",
        "      layers.Activation(\"relu\"),\n",
        "      layers.MaxPooling2D(pool_size=2, strides=2),\n",
        "      layers.Dropout(0.25),\n",
        "\n",
        "\n",
        "      # Convolution layer\n",
        "      layers.Conv2D(filters=64, kernel_size=3, activation='relu', kernel_regularizer=regularizers.l2(0.0005)),\n",
        "      layers.Conv2D(filters=64, kernel_size=3, use_bias=False),\n",
        "\n",
        "      # Batch normalization, activation, maxpooling, dropout\n",
        "      layers.BatchNormalization(),\n",
        "      layers.Activation(\"relu\"),\n",
        "      layers.MaxPooling2D(pool_size=2, strides=2),\n",
        "      layers.Dropout(0.25),\n",
        "\n",
        "\n",
        "      # Fully connected layer\n",
        "      layers.Flatten(),\n",
        "      layers.Dense(units=256, use_bias=False),\n",
        "\n",
        "      # Batch normalization, activation\n",
        "      layers.BatchNormalization(),\n",
        "      layers.Activation(\"relu\"),\n",
        "\n",
        "\n",
        "      # Fully connected layer\n",
        "      layers.Dense(units=128, use_bias=False), \n",
        "\n",
        "      # Batch normalization, activation\n",
        "      layers.BatchNormalization(),\n",
        "      layers.Activation(\"relu\"),\n",
        "\n",
        "\n",
        "      # Fully connected layer\n",
        "      layers.Dense(units = 84, use_bias=False),\n",
        "\n",
        "      # Batch normalization, activation, dropout\n",
        "      layers.BatchNormalization(),\n",
        "      layers.Activation(\"relu\"),\n",
        "      layers.Dropout(0.25),\n",
        "\n",
        "\n",
        "      # Output layer\n",
        "      layers.Dense(units=10, activation='softmax')\n",
        "  ])\n",
        "\n",
        "  return model"
      ],
      "execution_count": null,
      "outputs": [
        {
          "name": "stdout",
          "output_type": "stream",
          "text": [
            "Model: \"sequential_43\"\n",
            "_________________________________________________________________\n",
            " Layer (type)                Output Shape              Param #   \n",
            "=================================================================\n",
            " conv2d_76 (Conv2D)          (None, 28, 28, 32)        832       \n",
            "                                                                 \n",
            " conv2d_77 (Conv2D)          (None, 24, 24, 32)        25600     \n",
            "                                                                 \n",
            " batch_normalization_49 (Bat  (None, 24, 24, 32)       128       \n",
            " chNormalization)                                                \n",
            "                                                                 \n",
            " activation_46 (Activation)  (None, 24, 24, 32)        0         \n",
            "                                                                 \n",
            " max_pooling2d_32 (MaxPoolin  (None, 12, 12, 32)       0         \n",
            " g2D)                                                            \n",
            "                                                                 \n",
            " dropout_60 (Dropout)        (None, 12, 12, 32)        0         \n",
            "                                                                 \n",
            " conv2d_78 (Conv2D)          (None, 10, 10, 64)        18496     \n",
            "                                                                 \n",
            " conv2d_79 (Conv2D)          (None, 8, 8, 64)          36864     \n",
            "                                                                 \n",
            " batch_normalization_50 (Bat  (None, 8, 8, 64)         256       \n",
            " chNormalization)                                                \n",
            "                                                                 \n",
            " activation_47 (Activation)  (None, 8, 8, 64)          0         \n",
            "                                                                 \n",
            " max_pooling2d_33 (MaxPoolin  (None, 4, 4, 64)         0         \n",
            " g2D)                                                            \n",
            "                                                                 \n",
            " dropout_61 (Dropout)        (None, 4, 4, 64)          0         \n",
            "                                                                 \n",
            " flatten_26 (Flatten)        (None, 1024)              0         \n",
            "                                                                 \n",
            " dense_134 (Dense)           (None, 256)               262144    \n",
            "                                                                 \n",
            " batch_normalization_51 (Bat  (None, 256)              1024      \n",
            " chNormalization)                                                \n",
            "                                                                 \n",
            " activation_48 (Activation)  (None, 256)               0         \n",
            "                                                                 \n",
            " dense_135 (Dense)           (None, 128)               32768     \n",
            "                                                                 \n",
            " batch_normalization_52 (Bat  (None, 128)              512       \n",
            " chNormalization)                                                \n",
            "                                                                 \n",
            " activation_49 (Activation)  (None, 128)               0         \n",
            "                                                                 \n",
            " dense_136 (Dense)           (None, 84)                10752     \n",
            "                                                                 \n",
            " batch_normalization_53 (Bat  (None, 84)               336       \n",
            " chNormalization)                                                \n",
            "                                                                 \n",
            " activation_50 (Activation)  (None, 84)                0         \n",
            "                                                                 \n",
            " dropout_62 (Dropout)        (None, 84)                0         \n",
            "                                                                 \n",
            " dense_137 (Dense)           (None, 10)                850       \n",
            "                                                                 \n",
            "=================================================================\n",
            "Total params: 390,562\n",
            "Trainable params: 389,434\n",
            "Non-trainable params: 1,128\n",
            "_________________________________________________________________\n"
          ]
        }
      ]
    },
    {
      "cell_type": "code",
      "metadata": {
        "id": "bv3yvdmwOBOB"
      },
      "source": [
        "# Model 3\n",
        "MODEL = \"myModel\"\n",
        "\n",
        "def model3():\n",
        "  \n",
        "    model = keras.Sequential([\n",
        "        \n",
        "        # Convolution layer\n",
        "        layers.Conv2D(filters=512, kernel_size=(3,3), padding=\"same\", activation=\"relu\", kernel_regularizer=regularizers.l2(0.0005)), \n",
        "        layers.Conv2D(filters=512, kernel_size=(3,3), padding=\"same\", activation=\"relu\", kernel_regularizer=regularizers.l2(0.0005)),\n",
        "        layers.Conv2D(filters=512, kernel_size=(3,3), padding=\"same\", use_bias=False),\n",
        "\n",
        "        # Batch nomalization, activation, maxpooling, dropout\n",
        "        layers.BatchNormalization(),\n",
        "        layers.Activation(\"relu\"),\n",
        "        layers.MaxPool2D(pool_size=(2,2),strides=(2,2)),\n",
        "        layers.Dropout(0.25),\n",
        "\n",
        "        # Convolution layer\n",
        "        layers.Conv2D(filters=512, kernel_size=(3,3), padding=\"same\", activation=\"relu\", kernel_regularizer=regularizers.l2(0.0005)), \n",
        "        layers.Conv2D(filters=512, kernel_size=(3,3), padding=\"same\", activation=\"relu\", kernel_regularizer=regularizers.l2(0.0005)),\n",
        "        layers.Conv2D(filters=512, kernel_size=(3,3), padding=\"same\", use_bias=False),\n",
        "\n",
        "        # Batch nomalization, activation, maxpooling, dropout\n",
        "        layers.BatchNormalization(),\n",
        "        layers.Activation(\"relu\"),\n",
        "        layers.MaxPool2D(pool_size=(2,2), strides=(2,2)),\n",
        "        layers.Dropout(0.25),\n",
        "\n",
        "        # Fully connected layer\n",
        "        layers.Flatten(),\n",
        "        layers.Dense(units=4096, activation=\"relu\", use_bias=False), \n",
        "        layers.Dense(units=4096, use_bias=False), \n",
        "\n",
        "        # Batch normalization, activation, dropout\n",
        "        layers.BatchNormalization(),\n",
        "        layers.Activation(\"relu\"),\n",
        "        layers.Dropout(0.25),\n",
        "\n",
        "        # Output layer\n",
        "        layers.Dense(units=10, activation=\"softmax\")\n",
        "\n",
        "    ])\n",
        "    \n",
        "    return model"
      ],
      "execution_count": 39,
      "outputs": []
    },
    {
      "cell_type": "code",
      "metadata": {
        "colab": {
          "base_uri": "https://localhost:8080/"
        },
        "id": "7jck-7UeNhTb",
        "outputId": "d9748b6a-abd8-4e3c-f51f-dfb2137bf416"
      },
      "source": [
        "with strategy.scope():\n",
        "  if MODEL == \"LeNet\":\n",
        "    model = model1()\n",
        "  elif MODEL == \"deepLeNet\":\n",
        "    model = model2()\n",
        "  elif MODEL == \"myModel\":\n",
        "    model = model3()\n",
        "  else:\n",
        "    raise \"Model doesn't exist\"\n",
        "  model.compile(\n",
        "      optimizer = \"adam\", \n",
        "      loss = \"categorical_crossentropy\", \n",
        "      metrics = [\"categorical_accuracy\"]\n",
        "  )\n",
        "\n",
        "early_stopping = keras.callbacks.EarlyStopping(\n",
        "    patience = 5, \n",
        "    min_delta = 0.001,\n",
        "    restore_best_weights = True,\n",
        ")\n",
        "\n",
        "reduce_lr = keras.callbacks.ReduceLROnPlateau(\n",
        "    monitor = 'val_loss',\n",
        "    factor = 0.2,\n",
        "    patience = 2\n",
        ")\n",
        "\n",
        "history = model.fit(\n",
        "    x_train, y_train,\n",
        "    validation_data = (x_val, y_val),\n",
        "    batch_size = BATCH_SIZE,\n",
        "    epochs = EPOCH,\n",
        "    callbacks = [early_stopping, reduce_lr],\n",
        ")"
      ],
      "execution_count": 40,
      "outputs": [
        {
          "output_type": "stream",
          "name": "stdout",
          "text": [
            "Epoch 1/30\n",
            "132/132 [==============================] - 58s 296ms/step - loss: 1.0043 - categorical_accuracy: 0.9090 - val_loss: 4.1461 - val_categorical_accuracy: 0.3376 - lr: 0.0010\n",
            "Epoch 2/30\n",
            "132/132 [==============================] - 17s 128ms/step - loss: 0.4238 - categorical_accuracy: 0.9720 - val_loss: 2.4351 - val_categorical_accuracy: 0.5248 - lr: 0.0010\n",
            "Epoch 3/30\n",
            "132/132 [==============================] - 17s 126ms/step - loss: 0.2440 - categorical_accuracy: 0.9787 - val_loss: 0.7148 - val_categorical_accuracy: 0.8136 - lr: 0.0010\n",
            "Epoch 4/30\n",
            "132/132 [==============================] - 17s 125ms/step - loss: 0.1704 - categorical_accuracy: 0.9797 - val_loss: 0.4470 - val_categorical_accuracy: 0.8893 - lr: 0.0010\n",
            "Epoch 5/30\n",
            "132/132 [==============================] - 16s 125ms/step - loss: 0.1238 - categorical_accuracy: 0.9821 - val_loss: 0.2448 - val_categorical_accuracy: 0.9406 - lr: 0.0010\n",
            "Epoch 6/30\n",
            "132/132 [==============================] - 15s 117ms/step - loss: 0.0933 - categorical_accuracy: 0.9837 - val_loss: 0.2519 - val_categorical_accuracy: 0.9346 - lr: 0.0010\n",
            "Epoch 7/30\n",
            "132/132 [==============================] - 17s 127ms/step - loss: 0.0778 - categorical_accuracy: 0.9853 - val_loss: 0.1097 - val_categorical_accuracy: 0.9782 - lr: 0.0010\n",
            "Epoch 8/30\n",
            "132/132 [==============================] - 18s 140ms/step - loss: 0.0710 - categorical_accuracy: 0.9862 - val_loss: 0.1059 - val_categorical_accuracy: 0.9745 - lr: 0.0010\n",
            "Epoch 9/30\n",
            "132/132 [==============================] - 15s 117ms/step - loss: 0.0658 - categorical_accuracy: 0.9870 - val_loss: 0.1297 - val_categorical_accuracy: 0.9710 - lr: 0.0010\n",
            "Epoch 10/30\n",
            "132/132 [==============================] - 15s 116ms/step - loss: 0.0562 - categorical_accuracy: 0.9887 - val_loss: 0.1248 - val_categorical_accuracy: 0.9667 - lr: 0.0010\n",
            "Epoch 11/30\n",
            "132/132 [==============================] - 17s 127ms/step - loss: 0.0352 - categorical_accuracy: 0.9947 - val_loss: 0.0454 - val_categorical_accuracy: 0.9925 - lr: 2.0000e-04\n",
            "Epoch 12/30\n",
            "132/132 [==============================] - 17s 127ms/step - loss: 0.0273 - categorical_accuracy: 0.9962 - val_loss: 0.0411 - val_categorical_accuracy: 0.9921 - lr: 2.0000e-04\n",
            "Epoch 13/30\n",
            "132/132 [==============================] - 15s 117ms/step - loss: 0.0233 - categorical_accuracy: 0.9967 - val_loss: 0.0437 - val_categorical_accuracy: 0.9904 - lr: 2.0000e-04\n",
            "Epoch 14/30\n",
            "132/132 [==============================] - 15s 116ms/step - loss: 0.0213 - categorical_accuracy: 0.9969 - val_loss: 0.0423 - val_categorical_accuracy: 0.9907 - lr: 2.0000e-04\n",
            "Epoch 15/30\n",
            "132/132 [==============================] - 17s 126ms/step - loss: 0.0172 - categorical_accuracy: 0.9978 - val_loss: 0.0338 - val_categorical_accuracy: 0.9930 - lr: 4.0000e-05\n",
            "Epoch 16/30\n",
            "132/132 [==============================] - 15s 116ms/step - loss: 0.0166 - categorical_accuracy: 0.9979 - val_loss: 0.0332 - val_categorical_accuracy: 0.9937 - lr: 4.0000e-05\n",
            "Epoch 17/30\n",
            "132/132 [==============================] - 15s 115ms/step - loss: 0.0155 - categorical_accuracy: 0.9981 - val_loss: 0.0328 - val_categorical_accuracy: 0.9935 - lr: 4.0000e-05\n",
            "Epoch 18/30\n",
            "132/132 [==============================] - 15s 116ms/step - loss: 0.0154 - categorical_accuracy: 0.9978 - val_loss: 0.0328 - val_categorical_accuracy: 0.9937 - lr: 4.0000e-05\n",
            "Epoch 19/30\n",
            "132/132 [==============================] - 17s 128ms/step - loss: 0.0147 - categorical_accuracy: 0.9983 - val_loss: 0.0323 - val_categorical_accuracy: 0.9937 - lr: 4.0000e-05\n",
            "Epoch 20/30\n",
            "132/132 [==============================] - 15s 116ms/step - loss: 0.0146 - categorical_accuracy: 0.9980 - val_loss: 0.0317 - val_categorical_accuracy: 0.9937 - lr: 4.0000e-05\n",
            "Epoch 21/30\n",
            "132/132 [==============================] - 17s 126ms/step - loss: 0.0138 - categorical_accuracy: 0.9986 - val_loss: 0.0312 - val_categorical_accuracy: 0.9939 - lr: 4.0000e-05\n",
            "Epoch 22/30\n",
            "132/132 [==============================] - 15s 116ms/step - loss: 0.0131 - categorical_accuracy: 0.9985 - val_loss: 0.0311 - val_categorical_accuracy: 0.9939 - lr: 4.0000e-05\n",
            "Epoch 23/30\n",
            "132/132 [==============================] - 15s 116ms/step - loss: 0.0129 - categorical_accuracy: 0.9983 - val_loss: 0.0313 - val_categorical_accuracy: 0.9935 - lr: 4.0000e-05\n",
            "Epoch 24/30\n",
            "132/132 [==============================] - 15s 117ms/step - loss: 0.0128 - categorical_accuracy: 0.9982 - val_loss: 0.0327 - val_categorical_accuracy: 0.9927 - lr: 4.0000e-05\n",
            "Epoch 25/30\n",
            "132/132 [==============================] - 15s 116ms/step - loss: 0.0117 - categorical_accuracy: 0.9985 - val_loss: 0.0313 - val_categorical_accuracy: 0.9937 - lr: 8.0000e-06\n",
            "Epoch 26/30\n",
            "132/132 [==============================] - 59s 452ms/step - loss: 0.0115 - categorical_accuracy: 0.9986 - val_loss: 0.0307 - val_categorical_accuracy: 0.9940 - lr: 8.0000e-06\n"
          ]
        }
      ]
    },
    {
      "cell_type": "code",
      "metadata": {
        "colab": {
          "base_uri": "https://localhost:8080/",
          "height": 1000
        },
        "id": "MMKeuIXFgydT",
        "outputId": "56681198-b4d2-4a22-bd7b-cdfc5b8e0aeb"
      },
      "source": [
        "model.summary()\n",
        "\n",
        "history_df = pd.DataFrame(history.history)\n",
        "history_df.loc[:, ['loss', 'val_loss']].plot(title=\"Cross-entropy\")\n",
        "plt.savefig(\"img/loss_{}.png\".format(MODEL))\n",
        "\n",
        "history_df.loc[:, ['categorical_accuracy', 'val_categorical_accuracy']].plot(title=\"Accuracy\")\n",
        "plt.savefig(\"img/acc_{}.png\".format(MODEL))"
      ],
      "execution_count": null,
      "outputs": [
        {
          "name": "stdout",
          "output_type": "stream",
          "text": [
            "Model: \"sequential_5\"\n",
            "_________________________________________________________________\n",
            " Layer (type)                Output Shape              Param #   \n",
            "=================================================================\n",
            " conv2d_20 (Conv2D)          (None, 28, 28, 512)       5120      \n",
            "                                                                 \n",
            " conv2d_21 (Conv2D)          (None, 28, 28, 512)       2359808   \n",
            "                                                                 \n",
            " conv2d_22 (Conv2D)          (None, 28, 28, 512)       2359296   \n",
            "                                                                 \n",
            " batch_normalization_15 (Bat  (None, 28, 28, 512)      2048      \n",
            " chNormalization)                                                \n",
            "                                                                 \n",
            " activation_15 (Activation)  (None, 28, 28, 512)       0         \n",
            "                                                                 \n",
            " max_pooling2d_10 (MaxPoolin  (None, 14, 14, 512)      0         \n",
            " g2D)                                                            \n",
            "                                                                 \n",
            " dropout_15 (Dropout)        (None, 14, 14, 512)       0         \n",
            "                                                                 \n",
            " conv2d_23 (Conv2D)          (None, 14, 14, 512)       2359808   \n",
            "                                                                 \n",
            " conv2d_24 (Conv2D)          (None, 14, 14, 512)       2359808   \n",
            "                                                                 \n",
            " conv2d_25 (Conv2D)          (None, 14, 14, 512)       2359296   \n",
            "                                                                 \n",
            " batch_normalization_16 (Bat  (None, 14, 14, 512)      2048      \n",
            " chNormalization)                                                \n",
            "                                                                 \n",
            " activation_16 (Activation)  (None, 14, 14, 512)       0         \n",
            "                                                                 \n",
            " max_pooling2d_11 (MaxPoolin  (None, 7, 7, 512)        0         \n",
            " g2D)                                                            \n",
            "                                                                 \n",
            " dropout_16 (Dropout)        (None, 7, 7, 512)         0         \n",
            "                                                                 \n",
            " flatten_5 (Flatten)         (None, 25088)             0         \n",
            "                                                                 \n",
            " dense_15 (Dense)            (None, 4096)              102760448 \n",
            "                                                                 \n",
            " dense_16 (Dense)            (None, 4096)              16777216  \n",
            "                                                                 \n",
            " batch_normalization_17 (Bat  (None, 4096)             16384     \n",
            " chNormalization)                                                \n",
            "                                                                 \n",
            " activation_17 (Activation)  (None, 4096)              0         \n",
            "                                                                 \n",
            " dropout_17 (Dropout)        (None, 4096)              0         \n",
            "                                                                 \n",
            " dense_17 (Dense)            (None, 10)                40970     \n",
            "                                                                 \n",
            "=================================================================\n",
            "Total params: 131,402,250\n",
            "Trainable params: 131,392,010\n",
            "Non-trainable params: 10,240\n",
            "_________________________________________________________________\n"
          ]
        },
        {
          "data": {
            "image/png": "[encoded data removed]",
            "text/plain": [
              "<Figure size 432x288 with 1 Axes>"
            ]
          },
          "metadata": {},
          "output_type": "display_data"
        },
        {
          "data": {
            "image/png": "[encoded data removed]",
            "text/plain": [
              "<Figure size 432x288 with 1 Axes>"
            ]
          },
          "metadata": {},
          "output_type": "display_data"
        }
      ]
    },
    {
      "cell_type": "code",
      "metadata": {
        "id": "0V9DXrs45lU-"
      },
      "source": [
        "y_test = model.predict(x_test)\n",
        "y_test = np.argmax(y_test, axis=1)\n",
        "\n",
        "submission = pd.DataFrame(columns=['ImageId', 'Label'])\n",
        "submission['ImageId'] = range(1, 1+len(y_test))\n",
        "submission['Label'] = y_test\n",
        "\n",
        "submission.to_csv('digit-recognizer/submission_{}.csv'.format(MODEL), index=False)"
      ],
      "execution_count": null,
      "outputs": []
    },
    {
      "cell_type": "code",
      "metadata": {
        "colab": {
          "base_uri": "https://localhost:8080/",
          "height": 419
        },
        "id": "fLN8eq4S9UbT",
        "outputId": "4f2a2851-d640-4b85-edd1-1c79cb645858"
      },
      "source": [
        "my_submission = pd.read_csv('digit-recognizer/submission_{}.csv'.format(MODEL))\n",
        "my_submission"
      ],
      "execution_count": null,
      "outputs": [
        {
          "data": {
            "text/html": [
              "<div>\n",
              "<style scoped>\n",
              "    .dataframe tbody tr th:only-of-type {\n",
              "        vertical-align: middle;\n",
              "    }\n",
              "\n",
              "    .dataframe tbody tr th {\n",
              "        vertical-align: top;\n",
              "    }\n",
              "\n",
              "    .dataframe thead th {\n",
              "        text-align: right;\n",
              "    }\n",
              "</style>\n",
              "<table border=\"1\" class=\"dataframe\">\n",
              "  <thead>\n",
              "    <tr style=\"text-align: right;\">\n",
              "      <th></th>\n",
              "      <th>ImageId</th>\n",
              "      <th>Label</th>\n",
              "    </tr>\n",
              "  </thead>\n",
              "  <tbody>\n",
              "    <tr>\n",
              "      <th>0</th>\n",
              "      <td>1</td>\n",
              "      <td>2</td>\n",
              "    </tr>\n",
              "    <tr>\n",
              "      <th>1</th>\n",
              "      <td>2</td>\n",
              "      <td>0</td>\n",
              "    </tr>\n",
              "    <tr>\n",
              "      <th>2</th>\n",
              "      <td>3</td>\n",
              "      <td>9</td>\n",
              "    </tr>\n",
              "    <tr>\n",
              "      <th>3</th>\n",
              "      <td>4</td>\n",
              "      <td>0</td>\n",
              "    </tr>\n",
              "    <tr>\n",
              "      <th>4</th>\n",
              "      <td>5</td>\n",
              "      <td>3</td>\n",
              "    </tr>\n",
              "    <tr>\n",
              "      <th>...</th>\n",
              "      <td>...</td>\n",
              "      <td>...</td>\n",
              "    </tr>\n",
              "    <tr>\n",
              "      <th>27995</th>\n",
              "      <td>27996</td>\n",
              "      <td>9</td>\n",
              "    </tr>\n",
              "    <tr>\n",
              "      <th>27996</th>\n",
              "      <td>27997</td>\n",
              "      <td>7</td>\n",
              "    </tr>\n",
              "    <tr>\n",
              "      <th>27997</th>\n",
              "      <td>27998</td>\n",
              "      <td>3</td>\n",
              "    </tr>\n",
              "    <tr>\n",
              "      <th>27998</th>\n",
              "      <td>27999</td>\n",
              "      <td>9</td>\n",
              "    </tr>\n",
              "    <tr>\n",
              "      <th>27999</th>\n",
              "      <td>28000</td>\n",
              "      <td>2</td>\n",
              "    </tr>\n",
              "  </tbody>\n",
              "</table>\n",
              "<p>28000 rows × 2 columns</p>\n",
              "</div>"
            ],
            "text/plain": [
              "       ImageId  Label\n",
              "0            1      2\n",
              "1            2      0\n",
              "2            3      9\n",
              "3            4      0\n",
              "4            5      3\n",
              "...        ...    ...\n",
              "27995    27996      9\n",
              "27996    27997      7\n",
              "27997    27998      3\n",
              "27998    27999      9\n",
              "27999    28000      2\n",
              "\n",
              "[28000 rows x 2 columns]"
            ]
          },
          "execution_count": 36,
          "metadata": {},
          "output_type": "execute_result"
        }
      ]
    },
    {
      "cell_type": "markdown",
      "metadata": {
        "id": "HtGaz4zvlF3L"
      },
      "source": [
        "## Experiment"
      ]
    },
    {
      "cell_type": "code",
      "metadata": {
        "colab": {
          "base_uri": "https://localhost:8080/"
        },
        "id": "mgBBPe4MLUU0",
        "outputId": "7929f6ce-7574-4ada-d2b8-a6a1ed1782bf"
      },
      "source": [
        "a = np.array([\n",
        "    [0, 0, 0, 0, 0, 0, 0, 0], \n",
        "    [1, 1, 1, 1, 1, 1, 1, 1], \n",
        "    [2, 2, 2, 2, 2, 2, 2, 2]\n",
        "])\n",
        "\n",
        "print(a.reshape(3, 2, 4))"
      ],
      "execution_count": null,
      "outputs": [
        {
          "name": "stdout",
          "output_type": "stream",
          "text": [
            "[[[0 0 0 0]\n",
            "  [0 0 0 0]]\n",
            "\n",
            " [[1 1 1 1]\n",
            "  [1 1 1 1]]\n",
            "\n",
            " [[2 2 2 2]\n",
            "  [2 2 2 2]]]\n"
          ]
        }
      ]
    }
  ]
}