{
  "nbformat": 4,
  "nbformat_minor": 0,
  "metadata": {
    "colab": {
      "name": "lenet.ipynb",
      "provenance": [],
      "collapsed_sections": [],
      "authorship_tag": "ABX9TyOO75AtN7e2OvKdaOE85p8r",
      "include_colab_link": true
    },
    "kernelspec": {
      "name": "python3",
      "display_name": "Python 3"
    },
    "language_info": {
      "name": "python"
    }
  },
  "cells": [
    {
      "cell_type": "markdown",
      "metadata": {
        "id": "view-in-github",
        "colab_type": "text"
      },
      "source": [
        "<a href=\"https://colab.research.google.com/github/KuoJeffrey/digitRecognizer/blob/master/lenet.ipynb\" target=\"_parent\"><img src=\"https://colab.research.google.com/assets/colab-badge.svg\" alt=\"Open In Colab\"/></a>"
      ]
    },
    {
      "cell_type": "code",
      "metadata": {
        "id": "GI5NJSr0_3tI"
      },
      "source": [
        "import numpy as np\n",
        "import pandas as pd\n",
        "from tensorflow import keras\n",
        "from tensorflow.keras import layers\n",
        "from sklearn.model_selection import train_test_split\n",
        "from sklearn.preprocessing import OneHotEncoder"
      ],
      "execution_count": 1,
      "outputs": []
    },
    {
      "cell_type": "code",
      "metadata": {
        "colab": {
          "base_uri": "https://localhost:8080/"
        },
        "id": "VkwxT84YLxIH",
        "outputId": "55b43d31-70df-499a-c588-473693c40654"
      },
      "source": [
        "train_data_url = \"digit-recognizer/train.csv\"\n",
        "train_data = pd.read_csv(train_data_url)\n",
        "\n",
        "test_data_url = \"digit-recognizer/test.csv\"\n",
        "test_data = pd.read_csv(test_data_url)\n",
        "\n",
        "print(train_data)\n",
        "print(test_data)"
      ],
      "execution_count": 2,
      "outputs": [
        {
          "output_type": "stream",
          "name": "stdout",
          "text": [
            "       label  pixel0  pixel1  pixel2  ...  pixel780  pixel781  pixel782  pixel783\n",
            "0          1       0       0       0  ...         0         0         0         0\n",
            "1          0       0       0       0  ...         0         0         0         0\n",
            "2          1       0       0       0  ...         0         0         0         0\n",
            "3          4       0       0       0  ...         0         0         0         0\n",
            "4          0       0       0       0  ...         0         0         0         0\n",
            "...      ...     ...     ...     ...  ...       ...       ...       ...       ...\n",
            "41995      0       0       0       0  ...         0         0         0         0\n",
            "41996      1       0       0       0  ...         0         0         0         0\n",
            "41997      7       0       0       0  ...         0         0         0         0\n",
            "41998      6       0       0       0  ...         0         0         0         0\n",
            "41999      9       0       0       0  ...         0         0         0         0\n",
            "\n",
            "[42000 rows x 785 columns]\n",
            "       pixel0  pixel1  pixel2  pixel3  ...  pixel780  pixel781  pixel782  pixel783\n",
            "0           0       0       0       0  ...         0         0         0         0\n",
            "1           0       0       0       0  ...         0         0         0         0\n",
            "2           0       0       0       0  ...         0         0         0         0\n",
            "3           0       0       0       0  ...         0         0         0         0\n",
            "4           0       0       0       0  ...         0         0         0         0\n",
            "...       ...     ...     ...     ...  ...       ...       ...       ...       ...\n",
            "27995       0       0       0       0  ...         0         0         0         0\n",
            "27996       0       0       0       0  ...         0         0         0         0\n",
            "27997       0       0       0       0  ...         0         0         0         0\n",
            "27998       0       0       0       0  ...         0         0         0         0\n",
            "27999       0       0       0       0  ...         0         0         0         0\n",
            "\n",
            "[28000 rows x 784 columns]\n"
          ]
        }
      ]
    },
    {
      "cell_type": "code",
      "metadata": {
        "id": "0SutQTUgQE_0",
        "colab": {
          "base_uri": "https://localhost:8080/"
        },
        "outputId": "7293168a-2b70-481b-f0f9-a7e2b91bbe9d"
      },
      "source": [
        "train_label = pd.get_dummies(train_data.label)\n",
        "train_input = train_data.drop('label', axis=1) / 255\n",
        "\n",
        "x_train, x_val, y_train, y_val = train_test_split(\n",
        "    train_input, train_label, \n",
        "    train_size = 0.8, \n",
        "    test_size = 0.2, \n",
        "    random_state = 236516\n",
        ")\n",
        "\n",
        "x_train = x_train.to_numpy().reshape(33600, 28, 28)\n",
        "x_val = x_val.to_numpy().reshape(8400, 28, 28)\n",
        "x_test = test_data.to_numpy().reshape(28000, 28, 28)\n",
        "\n",
        "\n",
        "\n",
        "print(x_train, x_val)\n",
        "print(y_train, y_val)\n",
        "print(x_test)"
      ],
      "execution_count": 65,
      "outputs": [
        {
          "output_type": "stream",
          "name": "stdout",
          "text": [
            "[[[0. 0. 0. ... 0. 0. 0.]\n",
            "  [0. 0. 0. ... 0. 0. 0.]\n",
            "  [0. 0. 0. ... 0. 0. 0.]\n",
            "  ...\n",
            "  [0. 0. 0. ... 0. 0. 0.]\n",
            "  [0. 0. 0. ... 0. 0. 0.]\n",
            "  [0. 0. 0. ... 0. 0. 0.]]\n",
            "\n",
            " [[0. 0. 0. ... 0. 0. 0.]\n",
            "  [0. 0. 0. ... 0. 0. 0.]\n",
            "  [0. 0. 0. ... 0. 0. 0.]\n",
            "  ...\n",
            "  [0. 0. 0. ... 0. 0. 0.]\n",
            "  [0. 0. 0. ... 0. 0. 0.]\n",
            "  [0. 0. 0. ... 0. 0. 0.]]\n",
            "\n",
            " [[0. 0. 0. ... 0. 0. 0.]\n",
            "  [0. 0. 0. ... 0. 0. 0.]\n",
            "  [0. 0. 0. ... 0. 0. 0.]\n",
            "  ...\n",
            "  [0. 0. 0. ... 0. 0. 0.]\n",
            "  [0. 0. 0. ... 0. 0. 0.]\n",
            "  [0. 0. 0. ... 0. 0. 0.]]\n",
            "\n",
            " ...\n",
            "\n",
            " [[0. 0. 0. ... 0. 0. 0.]\n",
            "  [0. 0. 0. ... 0. 0. 0.]\n",
            "  [0. 0. 0. ... 0. 0. 0.]\n",
            "  ...\n",
            "  [0. 0. 0. ... 0. 0. 0.]\n",
            "  [0. 0. 0. ... 0. 0. 0.]\n",
            "  [0. 0. 0. ... 0. 0. 0.]]\n",
            "\n",
            " [[0. 0. 0. ... 0. 0. 0.]\n",
            "  [0. 0. 0. ... 0. 0. 0.]\n",
            "  [0. 0. 0. ... 0. 0. 0.]\n",
            "  ...\n",
            "  [0. 0. 0. ... 0. 0. 0.]\n",
            "  [0. 0. 0. ... 0. 0. 0.]\n",
            "  [0. 0. 0. ... 0. 0. 0.]]\n",
            "\n",
            " [[0. 0. 0. ... 0. 0. 0.]\n",
            "  [0. 0. 0. ... 0. 0. 0.]\n",
            "  [0. 0. 0. ... 0. 0. 0.]\n",
            "  ...\n",
            "  [0. 0. 0. ... 0. 0. 0.]\n",
            "  [0. 0. 0. ... 0. 0. 0.]\n",
            "  [0. 0. 0. ... 0. 0. 0.]]] [[[0. 0. 0. ... 0. 0. 0.]\n",
            "  [0. 0. 0. ... 0. 0. 0.]\n",
            "  [0. 0. 0. ... 0. 0. 0.]\n",
            "  ...\n",
            "  [0. 0. 0. ... 0. 0. 0.]\n",
            "  [0. 0. 0. ... 0. 0. 0.]\n",
            "  [0. 0. 0. ... 0. 0. 0.]]\n",
            "\n",
            " [[0. 0. 0. ... 0. 0. 0.]\n",
            "  [0. 0. 0. ... 0. 0. 0.]\n",
            "  [0. 0. 0. ... 0. 0. 0.]\n",
            "  ...\n",
            "  [0. 0. 0. ... 0. 0. 0.]\n",
            "  [0. 0. 0. ... 0. 0. 0.]\n",
            "  [0. 0. 0. ... 0. 0. 0.]]\n",
            "\n",
            " [[0. 0. 0. ... 0. 0. 0.]\n",
            "  [0. 0. 0. ... 0. 0. 0.]\n",
            "  [0. 0. 0. ... 0. 0. 0.]\n",
            "  ...\n",
            "  [0. 0. 0. ... 0. 0. 0.]\n",
            "  [0. 0. 0. ... 0. 0. 0.]\n",
            "  [0. 0. 0. ... 0. 0. 0.]]\n",
            "\n",
            " ...\n",
            "\n",
            " [[0. 0. 0. ... 0. 0. 0.]\n",
            "  [0. 0. 0. ... 0. 0. 0.]\n",
            "  [0. 0. 0. ... 0. 0. 0.]\n",
            "  ...\n",
            "  [0. 0. 0. ... 0. 0. 0.]\n",
            "  [0. 0. 0. ... 0. 0. 0.]\n",
            "  [0. 0. 0. ... 0. 0. 0.]]\n",
            "\n",
            " [[0. 0. 0. ... 0. 0. 0.]\n",
            "  [0. 0. 0. ... 0. 0. 0.]\n",
            "  [0. 0. 0. ... 0. 0. 0.]\n",
            "  ...\n",
            "  [0. 0. 0. ... 0. 0. 0.]\n",
            "  [0. 0. 0. ... 0. 0. 0.]\n",
            "  [0. 0. 0. ... 0. 0. 0.]]\n",
            "\n",
            " [[0. 0. 0. ... 0. 0. 0.]\n",
            "  [0. 0. 0. ... 0. 0. 0.]\n",
            "  [0. 0. 0. ... 0. 0. 0.]\n",
            "  ...\n",
            "  [0. 0. 0. ... 0. 0. 0.]\n",
            "  [0. 0. 0. ... 0. 0. 0.]\n",
            "  [0. 0. 0. ... 0. 0. 0.]]]\n",
            "       0  1  2  3  4  5  6  7  8  9\n",
            "34737  0  0  0  0  1  0  0  0  0  0\n",
            "37745  0  0  0  0  0  0  1  0  0  0\n",
            "23654  0  0  0  0  0  0  0  1  0  0\n",
            "7466   0  0  0  0  1  0  0  0  0  0\n",
            "31014  0  0  0  0  1  0  0  0  0  0\n",
            "...   .. .. .. .. .. .. .. .. .. ..\n",
            "30730  0  0  0  0  0  0  0  0  1  0\n",
            "33399  0  0  0  0  0  0  0  0  1  0\n",
            "13989  0  0  0  0  0  1  0  0  0  0\n",
            "27359  0  0  1  0  0  0  0  0  0  0\n",
            "1344   0  0  0  0  0  0  1  0  0  0\n",
            "\n",
            "[33600 rows x 10 columns]        0  1  2  3  4  5  6  7  8  9\n",
            "27034  0  0  0  0  0  1  0  0  0  0\n",
            "33064  0  0  1  0  0  0  0  0  0  0\n",
            "13288  0  0  0  0  0  0  0  1  0  0\n",
            "9966   0  0  0  0  0  0  0  1  0  0\n",
            "32838  0  0  0  0  0  0  0  0  0  1\n",
            "...   .. .. .. .. .. .. .. .. .. ..\n",
            "2272   0  0  0  1  0  0  0  0  0  0\n",
            "788    0  0  0  0  0  0  1  0  0  0\n",
            "4700   0  0  0  0  1  0  0  0  0  0\n",
            "18598  0  0  0  0  0  0  0  0  1  0\n",
            "40159  0  0  0  0  0  0  0  1  0  0\n",
            "\n",
            "[8400 rows x 10 columns]\n",
            "[[[0 0 0 ... 0 0 0]\n",
            "  [0 0 0 ... 0 0 0]\n",
            "  [0 0 0 ... 0 0 0]\n",
            "  ...\n",
            "  [0 0 0 ... 0 0 0]\n",
            "  [0 0 0 ... 0 0 0]\n",
            "  [0 0 0 ... 0 0 0]]\n",
            "\n",
            " [[0 0 0 ... 0 0 0]\n",
            "  [0 0 0 ... 0 0 0]\n",
            "  [0 0 0 ... 0 0 0]\n",
            "  ...\n",
            "  [0 0 0 ... 0 0 0]\n",
            "  [0 0 0 ... 0 0 0]\n",
            "  [0 0 0 ... 0 0 0]]\n",
            "\n",
            " [[0 0 0 ... 0 0 0]\n",
            "  [0 0 0 ... 0 0 0]\n",
            "  [0 0 0 ... 0 0 0]\n",
            "  ...\n",
            "  [0 0 0 ... 0 0 0]\n",
            "  [0 0 0 ... 0 0 0]\n",
            "  [0 0 0 ... 0 0 0]]\n",
            "\n",
            " ...\n",
            "\n",
            " [[0 0 0 ... 0 0 0]\n",
            "  [0 0 0 ... 0 0 0]\n",
            "  [0 0 0 ... 0 0 0]\n",
            "  ...\n",
            "  [0 0 0 ... 0 0 0]\n",
            "  [0 0 0 ... 0 0 0]\n",
            "  [0 0 0 ... 0 0 0]]\n",
            "\n",
            " [[0 0 0 ... 0 0 0]\n",
            "  [0 0 0 ... 0 0 0]\n",
            "  [0 0 0 ... 0 0 0]\n",
            "  ...\n",
            "  [0 0 0 ... 0 0 0]\n",
            "  [0 0 0 ... 0 0 0]\n",
            "  [0 0 0 ... 0 0 0]]\n",
            "\n",
            " [[0 0 0 ... 0 0 0]\n",
            "  [0 0 0 ... 0 0 0]\n",
            "  [0 0 0 ... 0 0 0]\n",
            "  ...\n",
            "  [0 0 0 ... 0 0 0]\n",
            "  [0 0 0 ... 0 0 0]\n",
            "  [0 0 0 ... 0 0 0]]]\n"
          ]
        }
      ]
    },
    {
      "cell_type": "code",
      "metadata": {
        "id": "-Kq_LRiKLVyV",
        "colab": {
          "base_uri": "https://localhost:8080/"
        },
        "outputId": "5d2b1347-62b4-4050-c73d-0a0180795eaf"
      },
      "source": [
        "# model = keras.Sequential([\n",
        "    \n",
        "#     # Layer 1\n",
        "#     layers.Dense(units=576, activation='relu', input_shape=[784]),\n",
        "#     layers.Dropout(rate=0.3),\n",
        "\n",
        "#     # Layer 2\n",
        "#     layers.Dense(units=100, activation='relu'),\n",
        "#     layers.Dropout(rate=0.3),\n",
        "\n",
        "#     # Output layer\n",
        "#     layers.Dense(units=10, activation='softmax')\n",
        "\n",
        "# ])\n",
        "\n",
        "model = keras.Sequential([\n",
        "    \n",
        "    # Convolution layer\n",
        "    layers.Conv2D(filters=6, kernel_size=(3, 3), activation='relu', padding=\"same\", input_shape=(28, 28, 1)),\n",
        "\n",
        "    # Pooling layer\n",
        "    layers.AveragePooling2D(),\n",
        "\n",
        "    # Convolution layer\n",
        "    layers.Conv2D(filters=16, kernel_size=(3, 3), activation='relu'),\n",
        "\n",
        "    # Pooling layer\n",
        "    layers.AveragePooling2D(),\n",
        "\n",
        "    # Fully connected layer\n",
        "    layers.Flatten(),\n",
        "    layers.Dense(units=120, activation='relu'),\n",
        "\n",
        "    # Fully connected layer\n",
        "    layers.Dense(units=84, activation=\"relu\"), \n",
        "\n",
        "    # Output layer\n",
        "    layers.Dense(units=10, activation='softmax')\n",
        "\n",
        "])\n",
        "\n",
        "model.summary()\n"
      ],
      "execution_count": 52,
      "outputs": [
        {
          "output_type": "stream",
          "name": "stdout",
          "text": [
            "Model: \"sequential_23\"\n",
            "_________________________________________________________________\n",
            " Layer (type)                Output Shape              Param #   \n",
            "=================================================================\n",
            " conv2d_6 (Conv2D)           (None, 28, 28, 6)         60        \n",
            "                                                                 \n",
            " average_pooling2d_6 (Averag  (None, 14, 14, 6)        0         \n",
            " ePooling2D)                                                     \n",
            "                                                                 \n",
            " conv2d_7 (Conv2D)           (None, 12, 12, 16)        880       \n",
            "                                                                 \n",
            " average_pooling2d_7 (Averag  (None, 6, 6, 16)         0         \n",
            " ePooling2D)                                                     \n",
            "                                                                 \n",
            " flatten_3 (Flatten)         (None, 576)               0         \n",
            "                                                                 \n",
            " dense_61 (Dense)            (None, 120)               69240     \n",
            "                                                                 \n",
            " dense_62 (Dense)            (None, 84)                10164     \n",
            "                                                                 \n",
            " dense_63 (Dense)            (None, 10)                850       \n",
            "                                                                 \n",
            "=================================================================\n",
            "Total params: 81,194\n",
            "Trainable params: 81,194\n",
            "Non-trainable params: 0\n",
            "_________________________________________________________________\n"
          ]
        }
      ]
    },
    {
      "cell_type": "code",
      "metadata": {
        "colab": {
          "base_uri": "https://localhost:8080/"
        },
        "id": "7jck-7UeNhTb",
        "outputId": "2211c805-cea6-45fe-fc3b-32a8918117b8"
      },
      "source": [
        "model.compile(\n",
        "    optimizer = \"adam\", \n",
        "    loss = \"categorical_crossentropy\", \n",
        "    metrics = [\"categorical_accuracy\"]\n",
        ")\n",
        "\n",
        "early_stopping = keras.callbacks.EarlyStopping(\n",
        "    patience = 10, \n",
        "    min_delta = 0.001,\n",
        "    restore_best_weights = True,\n",
        ")\n",
        "\n",
        "history = model.fit(\n",
        "    x_train, y_train,\n",
        "    validation_data = (x_val, y_val),\n",
        "    batch_size = 64,\n",
        "    epochs = 100,\n",
        "    callbacks = [early_stopping],\n",
        ")"
      ],
      "execution_count": 51,
      "outputs": [
        {
          "output_type": "stream",
          "name": "stdout",
          "text": [
            "Epoch 1/100\n",
            "525/525 [==============================] - 14s 25ms/step - loss: 0.3893 - categorical_accuracy: 0.8873 - val_loss: 0.1572 - val_categorical_accuracy: 0.9523\n",
            "Epoch 2/100\n",
            "525/525 [==============================] - 13s 24ms/step - loss: 0.1143 - categorical_accuracy: 0.9654 - val_loss: 0.0948 - val_categorical_accuracy: 0.9704\n",
            "Epoch 3/100\n",
            "525/525 [==============================] - 13s 24ms/step - loss: 0.0795 - categorical_accuracy: 0.9760 - val_loss: 0.0974 - val_categorical_accuracy: 0.9702\n",
            "Epoch 4/100\n",
            "525/525 [==============================] - 13s 24ms/step - loss: 0.0627 - categorical_accuracy: 0.9810 - val_loss: 0.0715 - val_categorical_accuracy: 0.9765\n",
            "Epoch 5/100\n",
            "525/525 [==============================] - 13s 24ms/step - loss: 0.0505 - categorical_accuracy: 0.9842 - val_loss: 0.0583 - val_categorical_accuracy: 0.9799\n",
            "Epoch 6/100\n",
            "525/525 [==============================] - 13s 24ms/step - loss: 0.0425 - categorical_accuracy: 0.9867 - val_loss: 0.0573 - val_categorical_accuracy: 0.9813\n",
            "Epoch 7/100\n",
            "525/525 [==============================] - 13s 24ms/step - loss: 0.0346 - categorical_accuracy: 0.9893 - val_loss: 0.0514 - val_categorical_accuracy: 0.9838\n",
            "Epoch 8/100\n",
            "525/525 [==============================] - 13s 24ms/step - loss: 0.0326 - categorical_accuracy: 0.9896 - val_loss: 0.0481 - val_categorical_accuracy: 0.9857\n",
            "Epoch 9/100\n",
            "525/525 [==============================] - 13s 24ms/step - loss: 0.0286 - categorical_accuracy: 0.9907 - val_loss: 0.0589 - val_categorical_accuracy: 0.9801\n",
            "Epoch 10/100\n",
            "525/525 [==============================] - 13s 24ms/step - loss: 0.0235 - categorical_accuracy: 0.9926 - val_loss: 0.0532 - val_categorical_accuracy: 0.9840\n",
            "Epoch 11/100\n",
            "525/525 [==============================] - 13s 24ms/step - loss: 0.0197 - categorical_accuracy: 0.9938 - val_loss: 0.0560 - val_categorical_accuracy: 0.9839\n",
            "Epoch 12/100\n",
            "525/525 [==============================] - 13s 24ms/step - loss: 0.0201 - categorical_accuracy: 0.9933 - val_loss: 0.0528 - val_categorical_accuracy: 0.9840\n",
            "Epoch 13/100\n",
            "525/525 [==============================] - 13s 24ms/step - loss: 0.0170 - categorical_accuracy: 0.9940 - val_loss: 0.0493 - val_categorical_accuracy: 0.9858\n",
            "Epoch 14/100\n",
            "525/525 [==============================] - 13s 24ms/step - loss: 0.0138 - categorical_accuracy: 0.9957 - val_loss: 0.0563 - val_categorical_accuracy: 0.9826\n",
            "Epoch 15/100\n",
            "525/525 [==============================] - 13s 24ms/step - loss: 0.0138 - categorical_accuracy: 0.9955 - val_loss: 0.0556 - val_categorical_accuracy: 0.9838\n",
            "Epoch 16/100\n",
            "525/525 [==============================] - 13s 24ms/step - loss: 0.0136 - categorical_accuracy: 0.9956 - val_loss: 0.0544 - val_categorical_accuracy: 0.9849\n",
            "Epoch 17/100\n",
            "525/525 [==============================] - 13s 24ms/step - loss: 0.0095 - categorical_accuracy: 0.9968 - val_loss: 0.0498 - val_categorical_accuracy: 0.9880\n",
            "Epoch 18/100\n",
            "525/525 [==============================] - 13s 24ms/step - loss: 0.0104 - categorical_accuracy: 0.9967 - val_loss: 0.0609 - val_categorical_accuracy: 0.9860\n"
          ]
        }
      ]
    },
    {
      "cell_type": "code",
      "metadata": {
        "colab": {
          "base_uri": "https://localhost:8080/",
          "height": 562
        },
        "id": "MMKeuIXFgydT",
        "outputId": "7d40f40e-8999-444c-bc19-0054dbb29a9b"
      },
      "source": [
        "history_df = pd.DataFrame(history.history)\n",
        "history_df.loc[:, ['loss', 'val_loss']].plot(title=\"Cross-entropy\")\n",
        "history_df.loc[:, ['categorical_accuracy', 'val_categorical_accuracy']].plot(title=\"Accuracy\")"
      ],
      "execution_count": 53,
      "outputs": [
        {
          "output_type": "execute_result",
          "data": {
            "text/plain": [
              "<matplotlib.axes._subplots.AxesSubplot at 0x7f1c4d3e8910>"
            ]
          },
          "metadata": {},
          "execution_count": 53
        },
        {
          "output_type": "display_data",
          "data": {
            "image/png": "[encoded data removed]",
            "text/plain": [
              "<Figure size 432x288 with 1 Axes>"
            ]
          },
          "metadata": {
            "needs_background": "light"
          }
        },
        {
          "output_type": "display_data",
          "data": {
            "image/png": "[encoded data removed]",
            "text/plain": [
              "<Figure size 432x288 with 1 Axes>"
            ]
          },
          "metadata": {
            "needs_background": "light"
          }
        }
      ]
    },
    {
      "cell_type": "code",
      "metadata": {
        "id": "0V9DXrs45lU-"
      },
      "source": [
        "y_test = model.predict(x_test)\n",
        "y_test = np.argmax(y_test, axis=1)\n",
        "\n",
        "submission = pd.DataFrame(columns=['ImageId', 'Label'])\n",
        "submission['ImageId'] = range(1, 1+len(y_test))\n",
        "submission['Label'] = y_test\n",
        "\n",
        "# sample_submission = pd.read_csv(\"digit-recognizer/sample_submission.csv\")\n",
        "# sample_submission\n",
        "submission\n",
        "submission.to_csv('digit-recognizer/submissions0.csv', index=False)"
      ],
      "execution_count": 76,
      "outputs": []
    },
    {
      "cell_type": "markdown",
      "metadata": {
        "id": "HtGaz4zvlF3L"
      },
      "source": [
        "## Experiment"
      ]
    },
    {
      "cell_type": "code",
      "metadata": {
        "id": "mgBBPe4MLUU0",
        "colab": {
          "base_uri": "https://localhost:8080/"
        },
        "outputId": "7929f6ce-7574-4ada-d2b8-a6a1ed1782bf"
      },
      "source": [
        "a = np.array([\n",
        "    [0, 0, 0, 0, 0, 0, 0, 0], \n",
        "    [1, 1, 1, 1, 1, 1, 1, 1], \n",
        "    [2, 2, 2, 2, 2, 2, 2, 2]\n",
        "])\n",
        "\n",
        "print(a.reshape(3, 2, 4))"
      ],
      "execution_count": 75,
      "outputs": [
        {
          "output_type": "stream",
          "name": "stdout",
          "text": [
            "[[[0 0 0 0]\n",
            "  [0 0 0 0]]\n",
            "\n",
            " [[1 1 1 1]\n",
            "  [1 1 1 1]]\n",
            "\n",
            " [[2 2 2 2]\n",
            "  [2 2 2 2]]]\n"
          ]
        }
      ]
    }
  ]
}