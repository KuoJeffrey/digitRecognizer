{
  "nbformat": 4,
  "nbformat_minor": 0,
  "metadata": {
    "colab": {
      "name": "lenet.ipynb",
      "provenance": [],
      "collapsed_sections": [],
      "authorship_tag": "ABX9TyNlI70L6ru6KuUrBli69lDj",
      "include_colab_link": true
    },
    "kernelspec": {
      "name": "python3",
      "display_name": "Python 3"
    },
    "language_info": {
      "name": "python"
    }
  },
  "cells": [
    {
      "cell_type": "markdown",
      "metadata": {
        "id": "view-in-github",
        "colab_type": "text"
      },
      "source": [
        "<a href=\"https://colab.research.google.com/github/KuoJeffrey/digitRecognizer/blob/master/lenet.ipynb\" target=\"_parent\"><img src=\"https://colab.research.google.com/assets/colab-badge.svg\" alt=\"Open In Colab\"/></a>"
      ]
    },
    {
      "cell_type": "code",
      "metadata": {
        "id": "GI5NJSr0_3tI"
      },
      "source": [
        "import numpy as np\n",
        "import pandas as pd\n",
        "from tensorflow import keras\n",
        "from tensorflow.keras import layers"
      ],
      "execution_count": 3,
      "outputs": []
    },
    {
      "cell_type": "code",
      "metadata": {
        "colab": {
          "base_uri": "https://localhost:8080/"
        },
        "id": "VkwxT84YLxIH",
        "outputId": "8bd48a49-1c15-4426-86e2-ad13e4407370"
      },
      "source": [
        "train_data_url = \"digit-recognizer/train.csv\"\n",
        "train_data = pd.read_csv(train_data_url)\n",
        "\n",
        "test_data_url = \"digit-recognizer/test.csv\"\n",
        "val_data = pd.read_csv(test_data_url)[:2296]\n",
        "test_data = pd.read_csv(test_data_url)[2296:]\n",
        "\n",
        "print(train_data)\n",
        "print(val_data)\n",
        "print(test_data)"
      ],
      "execution_count": 9,
      "outputs": [
        {
          "output_type": "stream",
          "name": "stdout",
          "text": [
            "      label  pixel0  pixel1  pixel2  ...  pixel780  pixel781  pixel782  pixel783\n",
            "0         1       0       0       0  ...       0.0       0.0       0.0       0.0\n",
            "1         0       0       0       0  ...       0.0       0.0       0.0       0.0\n",
            "2         1       0       0       0  ...       0.0       0.0       0.0       0.0\n",
            "3         4       0       0       0  ...       0.0       0.0       0.0       0.0\n",
            "4         0       0       0       0  ...       0.0       0.0       0.0       0.0\n",
            "...     ...     ...     ...     ...  ...       ...       ...       ...       ...\n",
            "4579      8       0       0       0  ...       0.0       0.0       0.0       0.0\n",
            "4580      5       0       0       0  ...       0.0       0.0       0.0       0.0\n",
            "4581      7       0       0       0  ...       0.0       0.0       0.0       0.0\n",
            "4582      7       0       0       0  ...       0.0       0.0       0.0       0.0\n",
            "4583      5       0       0       0  ...       NaN       NaN       NaN       NaN\n",
            "\n",
            "[4584 rows x 785 columns]\n",
            "      pixel0  pixel1  pixel2  pixel3  ...  pixel780  pixel781  pixel782  pixel783\n",
            "0          0       0       0       0  ...       0.0       0.0       0.0       0.0\n",
            "1          0       0       0       0  ...       0.0       0.0       0.0       0.0\n",
            "2          0       0       0       0  ...       0.0       0.0       0.0       0.0\n",
            "3          0       0       0       0  ...       0.0       0.0       0.0       0.0\n",
            "4          0       0       0       0  ...       0.0       0.0       0.0       0.0\n",
            "...      ...     ...     ...     ...  ...       ...       ...       ...       ...\n",
            "2291       0       0       0       0  ...       0.0       0.0       0.0       0.0\n",
            "2292       0       0       0       0  ...       0.0       0.0       0.0       0.0\n",
            "2293       0       0       0       0  ...       0.0       0.0       0.0       0.0\n",
            "2294       0       0       0       0  ...       0.0       0.0       0.0       0.0\n",
            "2295       0       0       0       0  ...       0.0       0.0       0.0       0.0\n",
            "\n",
            "[2296 rows x 784 columns]\n",
            "      pixel0  pixel1  pixel2  pixel3  ...  pixel780  pixel781  pixel782  pixel783\n",
            "2296       0       0       0       0  ...       0.0       0.0       0.0       0.0\n",
            "2297       0       0       0       0  ...       0.0       0.0       0.0       0.0\n",
            "2298       0       0       0       0  ...       0.0       0.0       0.0       0.0\n",
            "2299       0       0       0       0  ...       0.0       0.0       0.0       0.0\n",
            "2300       0       0       0       0  ...       0.0       0.0       0.0       0.0\n",
            "...      ...     ...     ...     ...  ...       ...       ...       ...       ...\n",
            "4587       0       0       0       0  ...       0.0       0.0       0.0       0.0\n",
            "4588       0       0       0       0  ...       0.0       0.0       0.0       0.0\n",
            "4589       0       0       0       0  ...       0.0       0.0       0.0       0.0\n",
            "4590       0       0       0       0  ...       0.0       0.0       0.0       0.0\n",
            "4591       0       0       0       0  ...       NaN       NaN       NaN       NaN\n",
            "\n",
            "[2296 rows x 784 columns]\n"
          ]
        }
      ]
    },
    {
      "cell_type": "code",
      "metadata": {
        "id": "0SutQTUgQE_0"
      },
      "source": [
        ""
      ],
      "execution_count": null,
      "outputs": []
    }
  ]
}