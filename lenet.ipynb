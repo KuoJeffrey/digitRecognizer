{
  "nbformat": 4,
  "nbformat_minor": 0,
  "metadata": {
    "accelerator": "GPU",
    "colab": {
      "name": "lenet.ipynb",
      "provenance": [],
      "collapsed_sections": [],
      "authorship_tag": "ABX9TyPhPRN6dOdug0zIxZPg0niz",
      "include_colab_link": true
    },
    "kernelspec": {
      "display_name": "Python 3",
      "name": "python3"
    },
    "language_info": {
      "name": "python"
    }
  },
  "cells": [
    {
      "cell_type": "markdown",
      "metadata": {
        "id": "view-in-github",
        "colab_type": "text"
      },
      "source": [
        "<a href=\"https://colab.research.google.com/github/KuoJeffrey/digitRecognizer/blob/master/lenet.ipynb\" target=\"_parent\"><img src=\"https://colab.research.google.com/assets/colab-badge.svg\" alt=\"Open In Colab\"/></a>"
      ]
    },
    {
      "cell_type": "code",
      "metadata": {
        "colab": {
          "base_uri": "https://localhost:8080/",
          "height": 443
        },
        "id": "Z_7yylfae0dU",
        "outputId": "8935e508-f152-4497-e078-63821615a151"
      },
      "source": [
        "# TPU initialization\n",
        "import tensorflow as tf\n",
        "try:\n",
        "  resolver = tf.distribute.cluster_resolver.TPUClusterResolver()\n",
        "except:\n",
        "  raise BaseException('ERROR: Not connected to a TPU runtime; please see the previous cell in this notebook for instructions!')\n",
        "\n",
        "\n",
        "tf.config.experimental_connect_to_cluster(resolver)\n",
        "\n",
        "# This is the TPU initialization code that has to be at the beginning.\n",
        "tf.tpu.experimental.initialize_tpu_system(resolver)\n",
        "strategy = tf.distribute.TPUStrategy(resolver)\n",
        "print(\"All devices: \", tf.config.list_logical_devices('TPU'))\n",
        "\n",
        "CORE = strategy.scope()"
      ],
      "execution_count": 2,
      "outputs": [
        {
          "output_type": "error",
          "ename": "BaseException",
          "evalue": "ignored",
          "traceback": [
            "\u001b[0;31m---------------------------------------------------------------------------\u001b[0m",
            "\u001b[0;31mValueError\u001b[0m                                Traceback (most recent call last)",
            "\u001b[0;32m<ipython-input-2-690eb42dc3f5>\u001b[0m in \u001b[0;36m<module>\u001b[0;34m()\u001b[0m\n\u001b[1;32m      3\u001b[0m \u001b[0;32mtry\u001b[0m\u001b[0;34m:\u001b[0m\u001b[0;34m\u001b[0m\u001b[0;34m\u001b[0m\u001b[0m\n\u001b[0;32m----> 4\u001b[0;31m   \u001b[0mresolver\u001b[0m \u001b[0;34m=\u001b[0m \u001b[0mtf\u001b[0m\u001b[0;34m.\u001b[0m\u001b[0mdistribute\u001b[0m\u001b[0;34m.\u001b[0m\u001b[0mcluster_resolver\u001b[0m\u001b[0;34m.\u001b[0m\u001b[0mTPUClusterResolver\u001b[0m\u001b[0;34m(\u001b[0m\u001b[0;34m)\u001b[0m\u001b[0;34m\u001b[0m\u001b[0;34m\u001b[0m\u001b[0m\n\u001b[0m\u001b[1;32m      5\u001b[0m \u001b[0;32mexcept\u001b[0m\u001b[0;34m:\u001b[0m\u001b[0;34m\u001b[0m\u001b[0;34m\u001b[0m\u001b[0m\n",
            "\u001b[0;32m/usr/local/lib/python3.7/dist-packages/tensorflow/python/distribute/cluster_resolver/tpu/tpu_cluster_resolver.py\u001b[0m in \u001b[0;36m__init__\u001b[0;34m(self, tpu, zone, project, job_name, coordinator_name, coordinator_address, credentials, service, discovery_url)\u001b[0m\n\u001b[1;32m    206\u001b[0m           \u001b[0mservice\u001b[0m\u001b[0;34m=\u001b[0m\u001b[0mservice\u001b[0m\u001b[0;34m,\u001b[0m\u001b[0;34m\u001b[0m\u001b[0;34m\u001b[0m\u001b[0m\n\u001b[0;32m--> 207\u001b[0;31m           discovery_url=discovery_url)\n\u001b[0m\u001b[1;32m    208\u001b[0m       \u001b[0mself\u001b[0m\u001b[0;34m.\u001b[0m\u001b[0m_tpu\u001b[0m \u001b[0;34m=\u001b[0m \u001b[0mself\u001b[0m\u001b[0;34m.\u001b[0m\u001b[0m_cloud_tpu_client\u001b[0m\u001b[0;34m.\u001b[0m\u001b[0mname\u001b[0m\u001b[0;34m(\u001b[0m\u001b[0;34m)\u001b[0m\u001b[0;34m\u001b[0m\u001b[0;34m\u001b[0m\u001b[0m\n",
            "\u001b[0;32m/usr/local/lib/python3.7/dist-packages/tensorflow/python/tpu/client/client.py\u001b[0m in \u001b[0;36m__init__\u001b[0;34m(self, tpu, zone, project, credentials, service, discovery_url)\u001b[0m\n\u001b[1;32m    145\u001b[0m     \u001b[0;32mif\u001b[0m \u001b[0mtpu\u001b[0m \u001b[0;32mis\u001b[0m \u001b[0;32mNone\u001b[0m\u001b[0;34m:\u001b[0m\u001b[0;34m\u001b[0m\u001b[0;34m\u001b[0m\u001b[0m\n\u001b[0;32m--> 146\u001b[0;31m       \u001b[0;32mraise\u001b[0m \u001b[0mValueError\u001b[0m\u001b[0;34m(\u001b[0m\u001b[0;34m'Please provide a TPU Name to connect to.'\u001b[0m\u001b[0;34m)\u001b[0m\u001b[0;34m\u001b[0m\u001b[0;34m\u001b[0m\u001b[0m\n\u001b[0m\u001b[1;32m    147\u001b[0m \u001b[0;34m\u001b[0m\u001b[0m\n",
            "\u001b[0;31mValueError\u001b[0m: Please provide a TPU Name to connect to.",
            "\nDuring handling of the above exception, another exception occurred:\n",
            "\u001b[0;31mBaseException\u001b[0m                             Traceback (most recent call last)",
            "\u001b[0;32m<ipython-input-2-690eb42dc3f5>\u001b[0m in \u001b[0;36m<module>\u001b[0;34m()\u001b[0m\n\u001b[1;32m      4\u001b[0m   \u001b[0mresolver\u001b[0m \u001b[0;34m=\u001b[0m \u001b[0mtf\u001b[0m\u001b[0;34m.\u001b[0m\u001b[0mdistribute\u001b[0m\u001b[0;34m.\u001b[0m\u001b[0mcluster_resolver\u001b[0m\u001b[0;34m.\u001b[0m\u001b[0mTPUClusterResolver\u001b[0m\u001b[0;34m(\u001b[0m\u001b[0;34m)\u001b[0m\u001b[0;34m\u001b[0m\u001b[0;34m\u001b[0m\u001b[0m\n\u001b[1;32m      5\u001b[0m \u001b[0;32mexcept\u001b[0m\u001b[0;34m:\u001b[0m\u001b[0;34m\u001b[0m\u001b[0;34m\u001b[0m\u001b[0m\n\u001b[0;32m----> 6\u001b[0;31m   \u001b[0;32mraise\u001b[0m \u001b[0mBaseException\u001b[0m\u001b[0;34m(\u001b[0m\u001b[0;34m'ERROR: Not connected to a TPU runtime; please see the previous cell in this notebook for instructions!'\u001b[0m\u001b[0;34m)\u001b[0m\u001b[0;34m\u001b[0m\u001b[0;34m\u001b[0m\u001b[0m\n\u001b[0m\u001b[1;32m      7\u001b[0m \u001b[0;34m\u001b[0m\u001b[0m\n\u001b[1;32m      8\u001b[0m \u001b[0;34m\u001b[0m\u001b[0m\n",
            "\u001b[0;31mBaseException\u001b[0m: ERROR: Not connected to a TPU runtime; please see the previous cell in this notebook for instructions!"
          ]
        }
      ]
    },
    {
      "cell_type": "code",
      "metadata": {
        "colab": {
          "base_uri": "https://localhost:8080/"
        },
        "id": "ydZeD3Pq5SdP",
        "outputId": "ac20133b-a0d5-4aaf-e624-6c0b1301ae32"
      },
      "source": [
        "# GPU initialization\n",
        "import tensorflow as tf\n",
        "device_name = tf.test.gpu_device_name()\n",
        "\n",
        "if device_name != '/device:GPU:0':\n",
        "  raise SystemError('GPU device not found')\n",
        "\n",
        "print('Found GPU at: {}'.format(device_name))\n",
        "\n",
        "CORE = tf.device(device_name)"
      ],
      "execution_count": 4,
      "outputs": [
        {
          "output_type": "stream",
          "name": "stdout",
          "text": [
            "Found GPU at: /device:GPU:0\n"
          ]
        }
      ]
    },
    {
      "cell_type": "code",
      "metadata": {
        "id": "GI5NJSr0_3tI"
      },
      "source": [
        "import numpy as np\n",
        "import pandas as pd\n",
        "from tensorflow import keras\n",
        "from tensorflow.keras import layers, regularizers\n",
        "from tensorflow.keras.preprocessing.image import ImageDataGenerator\n",
        "from sklearn.model_selection import train_test_split\n",
        "from sklearn.preprocessing import OneHotEncoder\n",
        "from matplotlib import pyplot as plt"
      ],
      "execution_count": 5,
      "outputs": []
    },
    {
      "cell_type": "code",
      "metadata": {
        "id": "VkwxT84YLxIH"
      },
      "source": [
        "train_data_url = \"digit-recognizer/train.csv\"\n",
        "train_data = pd.read_csv(train_data_url)\n",
        "\n",
        "test_data_url = \"digit-recognizer/test.csv\"\n",
        "test_data = pd.read_csv(test_data_url)\n"
      ],
      "execution_count": 7,
      "outputs": []
    },
    {
      "cell_type": "code",
      "metadata": {
        "id": "Rio2Gv6VnA51"
      },
      "source": [
        "BATCH_SIZE = 128\n",
        "EPOCH = 30\n",
        "SEED = 2187256"
      ],
      "execution_count": 6,
      "outputs": []
    },
    {
      "cell_type": "code",
      "metadata": {
        "colab": {
          "base_uri": "https://localhost:8080/",
          "height": 281
        },
        "id": "0SutQTUgQE_0",
        "outputId": "9245662a-54c5-492f-cff7-e046edc3692d"
      },
      "source": [
        "train_label = pd.get_dummies(train_data.label)\n",
        "train_input = train_data.drop('label', axis=1) / 255\n",
        "\n",
        "x_train, x_val, y_train, y_val = train_test_split(\n",
        "    train_input, train_label, \n",
        "    train_size = 0.8, \n",
        "    test_size = 0.2, \n",
        "    random_state = SEED\n",
        ")\n",
        "\n",
        "x_train = x_train.to_numpy().reshape(33600, 28, 28, 1)\n",
        "x_val = x_val.to_numpy().reshape(8400, 28, 28, 1)\n",
        "x_test = test_data.to_numpy().reshape(28000, 28, 28, 1) / 255\n",
        "\n",
        "plt.figure(\"Train data\")\n",
        "plt.title(\"Train data\")\n",
        "plt.bar(np.array([0, 1, 2, 3, 4, 5, 6, 7, 8, 9]), np.sum(y_train))\n",
        "plt.savefig(\"img/train_data_hist.png\")"
      ],
      "execution_count": 8,
      "outputs": [
        {
          "output_type": "display_data",
          "data": {
            "image/png": "[encoded data removed]",
            "text/plain": [
              "<Figure size 432x288 with 1 Axes>"
            ]
          },
          "metadata": {
            "needs_background": "light"
          }
        }
      ]
    },
    {
      "cell_type": "code",
      "metadata": {
        "colab": {
          "base_uri": "https://localhost:8080/",
          "height": 513
        },
        "id": "I10_JndZYG9H",
        "outputId": "9764bb7c-d5c3-4d2a-827a-890cda6c8aab"
      },
      "source": [
        "# Data augmentation\n",
        "test = x_test[0, :, :, 0]\n",
        "test2 = (test - test.mean()) / test.std()\n",
        "\n",
        "plt.imshow(test)\n",
        "plt.show()\n",
        "plt.imshow(test2)\n",
        "plt.show()"
      ],
      "execution_count": 9,
      "outputs": [
        {
          "output_type": "display_data",
          "data": {
            "image/png": "[encoded data removed]",
            "text/plain": [
              "<Figure size 432x288 with 1 Axes>"
            ]
          },
          "metadata": {
            "needs_background": "light"
          }
        },
        {
          "output_type": "display_data",
          "data": {
            "image/png": "[encoded data removed]",
            "text/plain": [
              "<Figure size 432x288 with 1 Axes>"
            ]
          },
          "metadata": {
            "needs_background": "light"
          }
        }
      ]
    },
    {
      "cell_type": "code",
      "metadata": {
        "id": "WHsuA9mMxwZo"
      },
      "source": [
        "# Model 0\n",
        "MODEL = \"LeNet-5\"\n",
        "\n",
        "def model0():\n",
        "  \n",
        "  model = keras.Sequential([\n",
        "    \n",
        "    # Convolution layer\n",
        "    layers.Conv2D(filters=6, kernel_size=(5, 5), activation='relu', padding=\"same\", input_shape=(28, 28, 1)),\n",
        "\n",
        "    # Pooling layer\n",
        "    layers.AveragePooling2D(),\n",
        "\n",
        "    # Convolution layer\n",
        "    layers.Conv2D(filters=16, kernel_size=(5, 5), activation='relu'), \n",
        "\n",
        "    # Pooling layer\n",
        "    layers.AveragePooling2D(),\n",
        "\n",
        "    # Fully connected layer\n",
        "    layers.Flatten(), \n",
        "    layers.Dense(units=120, activation='relu'),\n",
        "    layers.Dense(units=84, activation=\"relu\"), \n",
        "\n",
        "    # Output layer\n",
        "    layers.Dense(units=10, activation='softmax')\n",
        "      \n",
        "  ])\n",
        "\n",
        "  return model"
      ],
      "execution_count": 10,
      "outputs": []
    },
    {
      "cell_type": "code",
      "metadata": {
        "colab": {
          "base_uri": "https://localhost:8080/"
        },
        "id": "-Kq_LRiKLVyV",
        "outputId": "6d4e600c-ffa5-48d1-b35f-4c9abb365f79"
      },
      "source": [
        "# Model 1\n",
        "MODEL = \"LeNet\"\n",
        "\n",
        "def model1():\n",
        "  model = keras.Sequential([\n",
        "      \n",
        "      # Convolution layer\n",
        "      layers.Conv2D(filters=6, kernel_size=(3, 3), activation='relu', padding=\"same\", input_shape=(28, 28, 1)),\n",
        "\n",
        "      # Pooling layer\n",
        "      layers.AveragePooling2D(),\n",
        "\n",
        "      # Convolution layer\n",
        "      layers.Conv2D(filters=16, kernel_size=(3, 3), activation='relu'),\n",
        "\n",
        "      # Pooling layer\n",
        "      layers.AveragePooling2D(),\n",
        "\n",
        "      # Fully connected layer\n",
        "      layers.Flatten(),\n",
        "      layers.Dense(units=120, activation='relu'),\n",
        "\n",
        "      # Fully connected layer\n",
        "      layers.Dense(units=84, activation=\"relu\"), \n",
        "\n",
        "      # Output layer\n",
        "      layers.Dense(units=10, activation='softmax')\n",
        "\n",
        "  ])\n",
        "\n",
        "  return model"
      ],
      "execution_count": null,
      "outputs": [
        {
          "name": "stdout",
          "output_type": "stream",
          "text": [
            "Model: \"sequential_3\"\n",
            "_________________________________________________________________\n",
            " Layer (type)                Output Shape              Param #   \n",
            "=================================================================\n",
            " conv2d_14 (Conv2D)          (None, 28, 28, 6)         60        \n",
            "                                                                 \n",
            " average_pooling2d_2 (Averag  (None, 14, 14, 6)        0         \n",
            " ePooling2D)                                                     \n",
            "                                                                 \n",
            " conv2d_15 (Conv2D)          (None, 12, 12, 16)        880       \n",
            "                                                                 \n",
            " average_pooling2d_3 (Averag  (None, 6, 6, 16)         0         \n",
            " ePooling2D)                                                     \n",
            "                                                                 \n",
            " flatten_3 (Flatten)         (None, 576)               0         \n",
            "                                                                 \n",
            " dense_9 (Dense)             (None, 120)               69240     \n",
            "                                                                 \n",
            " dense_10 (Dense)            (None, 84)                10164     \n",
            "                                                                 \n",
            " dense_11 (Dense)            (None, 10)                850       \n",
            "                                                                 \n",
            "=================================================================\n",
            "Total params: 81,194\n",
            "Trainable params: 81,194\n",
            "Non-trainable params: 0\n",
            "_________________________________________________________________\n"
          ]
        }
      ]
    },
    {
      "cell_type": "code",
      "metadata": {
        "colab": {
          "base_uri": "https://localhost:8080/"
        },
        "id": "XxRCxm5Dd4lV",
        "outputId": "93bed865-8d68-4ab5-e5cc-58ae1e49abe9"
      },
      "source": [
        "# Model 2\n",
        "MODEL = \"deepLeNet\"\n",
        "\n",
        "def model2():\n",
        "\n",
        "  model = keras.Sequential([\n",
        "      \n",
        "      # Convolution layer\n",
        "      layers.Conv2D(filters=32, kernel_size=5, activation='relu', padding=\"same\", input_shape=(28, 28, 1), kernel_regularizer=regularizers.l2(0.0005)),\n",
        "      layers.Conv2D(filters=32, kernel_size=5, use_bias=False),\n",
        "\n",
        "      # Batch normalization, activation, maxpooling, dropout\n",
        "      layers.BatchNormalization(),\n",
        "      layers.Activation(\"relu\"),\n",
        "      layers.MaxPooling2D(pool_size=2, strides=2),\n",
        "      layers.Dropout(0.25),\n",
        "\n",
        "\n",
        "      # Convolution layer\n",
        "      layers.Conv2D(filters=64, kernel_size=3, activation='relu', kernel_regularizer=regularizers.l2(0.0005)),\n",
        "      layers.Conv2D(filters=64, kernel_size=3, use_bias=False),\n",
        "\n",
        "      # Batch normalization, activation, maxpooling, dropout\n",
        "      layers.BatchNormalization(),\n",
        "      layers.Activation(\"relu\"),\n",
        "      layers.MaxPooling2D(pool_size=2, strides=2),\n",
        "      layers.Dropout(0.25),\n",
        "\n",
        "\n",
        "      # Fully connected layer\n",
        "      layers.Flatten(),\n",
        "      layers.Dense(units=256, use_bias=False),\n",
        "\n",
        "      # Batch normalization, activation\n",
        "      layers.BatchNormalization(),\n",
        "      layers.Activation(\"relu\"),\n",
        "\n",
        "\n",
        "      # Fully connected layer\n",
        "      layers.Dense(units=128, use_bias=False), \n",
        "\n",
        "      # Batch normalization, activation\n",
        "      layers.BatchNormalization(),\n",
        "      layers.Activation(\"relu\"),\n",
        "\n",
        "\n",
        "      # Fully connected layer\n",
        "      layers.Dense(units = 84, use_bias=False),\n",
        "\n",
        "      # Batch normalization, activation, dropout\n",
        "      layers.BatchNormalization(),\n",
        "      layers.Activation(\"relu\"),\n",
        "      layers.Dropout(0.25),\n",
        "\n",
        "\n",
        "      # Output layer\n",
        "      layers.Dense(units=10, activation='softmax')\n",
        "  ])\n",
        "\n",
        "  return model"
      ],
      "execution_count": null,
      "outputs": [
        {
          "name": "stdout",
          "output_type": "stream",
          "text": [
            "Model: \"sequential_43\"\n",
            "_________________________________________________________________\n",
            " Layer (type)                Output Shape              Param #   \n",
            "=================================================================\n",
            " conv2d_76 (Conv2D)          (None, 28, 28, 32)        832       \n",
            "                                                                 \n",
            " conv2d_77 (Conv2D)          (None, 24, 24, 32)        25600     \n",
            "                                                                 \n",
            " batch_normalization_49 (Bat  (None, 24, 24, 32)       128       \n",
            " chNormalization)                                                \n",
            "                                                                 \n",
            " activation_46 (Activation)  (None, 24, 24, 32)        0         \n",
            "                                                                 \n",
            " max_pooling2d_32 (MaxPoolin  (None, 12, 12, 32)       0         \n",
            " g2D)                                                            \n",
            "                                                                 \n",
            " dropout_60 (Dropout)        (None, 12, 12, 32)        0         \n",
            "                                                                 \n",
            " conv2d_78 (Conv2D)          (None, 10, 10, 64)        18496     \n",
            "                                                                 \n",
            " conv2d_79 (Conv2D)          (None, 8, 8, 64)          36864     \n",
            "                                                                 \n",
            " batch_normalization_50 (Bat  (None, 8, 8, 64)         256       \n",
            " chNormalization)                                                \n",
            "                                                                 \n",
            " activation_47 (Activation)  (None, 8, 8, 64)          0         \n",
            "                                                                 \n",
            " max_pooling2d_33 (MaxPoolin  (None, 4, 4, 64)         0         \n",
            " g2D)                                                            \n",
            "                                                                 \n",
            " dropout_61 (Dropout)        (None, 4, 4, 64)          0         \n",
            "                                                                 \n",
            " flatten_26 (Flatten)        (None, 1024)              0         \n",
            "                                                                 \n",
            " dense_134 (Dense)           (None, 256)               262144    \n",
            "                                                                 \n",
            " batch_normalization_51 (Bat  (None, 256)              1024      \n",
            " chNormalization)                                                \n",
            "                                                                 \n",
            " activation_48 (Activation)  (None, 256)               0         \n",
            "                                                                 \n",
            " dense_135 (Dense)           (None, 128)               32768     \n",
            "                                                                 \n",
            " batch_normalization_52 (Bat  (None, 128)              512       \n",
            " chNormalization)                                                \n",
            "                                                                 \n",
            " activation_49 (Activation)  (None, 128)               0         \n",
            "                                                                 \n",
            " dense_136 (Dense)           (None, 84)                10752     \n",
            "                                                                 \n",
            " batch_normalization_53 (Bat  (None, 84)               336       \n",
            " chNormalization)                                                \n",
            "                                                                 \n",
            " activation_50 (Activation)  (None, 84)                0         \n",
            "                                                                 \n",
            " dropout_62 (Dropout)        (None, 84)                0         \n",
            "                                                                 \n",
            " dense_137 (Dense)           (None, 10)                850       \n",
            "                                                                 \n",
            "=================================================================\n",
            "Total params: 390,562\n",
            "Trainable params: 389,434\n",
            "Non-trainable params: 1,128\n",
            "_________________________________________________________________\n"
          ]
        }
      ]
    },
    {
      "cell_type": "code",
      "metadata": {
        "id": "bv3yvdmwOBOB"
      },
      "source": [
        "# Model 3\n",
        "MODEL = \"myModel\"\n",
        "\n",
        "def model3():\n",
        "  \n",
        "    model = keras.Sequential([\n",
        "        \n",
        "        # Convolution layer\n",
        "        layers.Conv2D(filters=512, kernel_size=(3,3), padding=\"same\", activation=\"relu\", kernel_regularizer=regularizers.l2(0.0005)), \n",
        "        layers.Conv2D(filters=512, kernel_size=(3,3), padding=\"same\", activation=\"relu\", kernel_regularizer=regularizers.l2(0.0005)),\n",
        "        layers.Conv2D(filters=512, kernel_size=(3,3), padding=\"same\", use_bias=False),\n",
        "\n",
        "        # Batch nomalization, activation, maxpooling, dropout\n",
        "        layers.BatchNormalization(),\n",
        "        layers.Activation(\"relu\"),\n",
        "        layers.MaxPool2D(pool_size=(2,2),strides=(2,2)),\n",
        "        layers.Dropout(0.25),\n",
        "\n",
        "        # Convolution layer\n",
        "        layers.Conv2D(filters=512, kernel_size=(3,3), padding=\"same\", activation=\"relu\", kernel_regularizer=regularizers.l2(0.0005)), \n",
        "        layers.Conv2D(filters=512, kernel_size=(3,3), padding=\"same\", activation=\"relu\", kernel_regularizer=regularizers.l2(0.0005)),\n",
        "        layers.Conv2D(filters=512, kernel_size=(3,3), padding=\"same\", use_bias=False),\n",
        "\n",
        "        # Batch nomalization, activation, maxpooling, dropout\n",
        "        layers.BatchNormalization(),\n",
        "        layers.Activation(\"relu\"),\n",
        "        layers.MaxPool2D(pool_size=(2,2), strides=(2,2)),\n",
        "        layers.Dropout(0.25),\n",
        "\n",
        "        # Fully connected layer\n",
        "        layers.Flatten(),\n",
        "        layers.Dense(units=4096, activation=\"relu\", use_bias=False), \n",
        "        layers.Dense(units=4096, use_bias=False), \n",
        "\n",
        "        # Batch normalization, activation, dropout\n",
        "        layers.BatchNormalization(),\n",
        "        layers.Activation(\"relu\"),\n",
        "        layers.Dropout(0.25),\n",
        "\n",
        "        # Output layer\n",
        "        layers.Dense(units=10, activation=\"softmax\")\n",
        "\n",
        "    ])\n",
        "    \n",
        "    return model"
      ],
      "execution_count": 39,
      "outputs": []
    },
    {
      "cell_type": "code",
      "metadata": {
        "colab": {
          "base_uri": "https://localhost:8080/"
        },
        "id": "7jck-7UeNhTb",
        "outputId": "27b4113f-6907-4071-a5aa-5d27d2008c05"
      },
      "source": [
        "with CORE:\n",
        "  if MODEL == \"LeNet-5\":\n",
        "    model = model0()\n",
        "  elif MODEL == \"LeNet\":\n",
        "    model = model1()\n",
        "  elif MODEL == \"deepLeNet\":\n",
        "    model = model2()\n",
        "  elif MODEL == \"myModel\":\n",
        "    model = model3()\n",
        "  else:\n",
        "    raise \"Model doesn't exist\"\n",
        "  model.compile(\n",
        "      optimizer = \"adam\", \n",
        "      loss = \"categorical_crossentropy\", \n",
        "      metrics = [\"categorical_accuracy\"]\n",
        "  )\n",
        "\n",
        "early_stopping = keras.callbacks.EarlyStopping(\n",
        "    patience = 5, \n",
        "    min_delta = 0.001,\n",
        "    restore_best_weights = True,\n",
        ")\n",
        "\n",
        "reduce_lr = keras.callbacks.ReduceLROnPlateau(\n",
        "    monitor = 'val_loss',\n",
        "    factor = 0.2,\n",
        "    patience = 2\n",
        ")\n",
        "\n",
        "history = model.fit(\n",
        "    x_train, y_train,\n",
        "    validation_data = (x_val, y_val),\n",
        "    batch_size = BATCH_SIZE,\n",
        "    epochs = EPOCH,\n",
        "    callbacks = [early_stopping, reduce_lr],\n",
        ")"
      ],
      "execution_count": 11,
      "outputs": [
        {
          "output_type": "stream",
          "name": "stdout",
          "text": [
            "Epoch 1/30\n",
            "263/263 [==============================] - 32s 9ms/step - loss: 0.5139 - categorical_accuracy: 0.8453 - val_loss: 0.1911 - val_categorical_accuracy: 0.9408 - lr: 0.0010\n",
            "Epoch 2/30\n",
            "263/263 [==============================] - 2s 8ms/step - loss: 0.1367 - categorical_accuracy: 0.9596 - val_loss: 0.1017 - val_categorical_accuracy: 0.9673 - lr: 0.0010\n",
            "Epoch 3/30\n",
            "263/263 [==============================] - 2s 8ms/step - loss: 0.0962 - categorical_accuracy: 0.9714 - val_loss: 0.0858 - val_categorical_accuracy: 0.9737 - lr: 0.0010\n",
            "Epoch 4/30\n",
            "263/263 [==============================] - 2s 8ms/step - loss: 0.0763 - categorical_accuracy: 0.9766 - val_loss: 0.0688 - val_categorical_accuracy: 0.9793 - lr: 0.0010\n",
            "Epoch 5/30\n",
            "263/263 [==============================] - 2s 8ms/step - loss: 0.0627 - categorical_accuracy: 0.9812 - val_loss: 0.0686 - val_categorical_accuracy: 0.9786 - lr: 0.0010\n",
            "Epoch 6/30\n",
            "263/263 [==============================] - 2s 8ms/step - loss: 0.0547 - categorical_accuracy: 0.9830 - val_loss: 0.0628 - val_categorical_accuracy: 0.9819 - lr: 0.0010\n",
            "Epoch 7/30\n",
            "263/263 [==============================] - 2s 8ms/step - loss: 0.0461 - categorical_accuracy: 0.9856 - val_loss: 0.0515 - val_categorical_accuracy: 0.9854 - lr: 0.0010\n",
            "Epoch 8/30\n",
            "263/263 [==============================] - 2s 8ms/step - loss: 0.0421 - categorical_accuracy: 0.9865 - val_loss: 0.0621 - val_categorical_accuracy: 0.9825 - lr: 0.0010\n",
            "Epoch 9/30\n",
            "263/263 [==============================] - 2s 8ms/step - loss: 0.0346 - categorical_accuracy: 0.9893 - val_loss: 0.0444 - val_categorical_accuracy: 0.9874 - lr: 0.0010\n",
            "Epoch 10/30\n",
            "263/263 [==============================] - 2s 8ms/step - loss: 0.0328 - categorical_accuracy: 0.9896 - val_loss: 0.0458 - val_categorical_accuracy: 0.9860 - lr: 0.0010\n",
            "Epoch 11/30\n",
            "263/263 [==============================] - 2s 8ms/step - loss: 0.0275 - categorical_accuracy: 0.9915 - val_loss: 0.0549 - val_categorical_accuracy: 0.9830 - lr: 0.0010\n",
            "Epoch 12/30\n",
            "263/263 [==============================] - 2s 8ms/step - loss: 0.0167 - categorical_accuracy: 0.9951 - val_loss: 0.0386 - val_categorical_accuracy: 0.9892 - lr: 2.0000e-04\n",
            "Epoch 13/30\n",
            "263/263 [==============================] - 2s 8ms/step - loss: 0.0145 - categorical_accuracy: 0.9960 - val_loss: 0.0383 - val_categorical_accuracy: 0.9890 - lr: 2.0000e-04\n",
            "Epoch 14/30\n",
            "263/263 [==============================] - 2s 8ms/step - loss: 0.0137 - categorical_accuracy: 0.9966 - val_loss: 0.0384 - val_categorical_accuracy: 0.9895 - lr: 2.0000e-04\n",
            "Epoch 15/30\n",
            "263/263 [==============================] - 2s 8ms/step - loss: 0.0129 - categorical_accuracy: 0.9968 - val_loss: 0.0408 - val_categorical_accuracy: 0.9889 - lr: 2.0000e-04\n",
            "Epoch 16/30\n",
            "263/263 [==============================] - 2s 8ms/step - loss: 0.0108 - categorical_accuracy: 0.9976 - val_loss: 0.0396 - val_categorical_accuracy: 0.9899 - lr: 4.0000e-05\n",
            "Epoch 17/30\n",
            "263/263 [==============================] - 2s 8ms/step - loss: 0.0105 - categorical_accuracy: 0.9976 - val_loss: 0.0394 - val_categorical_accuracy: 0.9901 - lr: 4.0000e-05\n"
          ]
        }
      ]
    },
    {
      "cell_type": "code",
      "metadata": {
        "colab": {
          "base_uri": "https://localhost:8080/",
          "height": 1000
        },
        "id": "MMKeuIXFgydT",
        "outputId": "1abb9c80-f36d-4e8b-dd00-1f7b48b9b2e7"
      },
      "source": [
        "model.summary()\n",
        "\n",
        "history_df = pd.DataFrame(history.history)\n",
        "history_df.loc[:, ['loss', 'val_loss']].plot(title=\"Cross-entropy\")\n",
        "plt.savefig(\"img/loss_{}.png\".format(MODEL))\n",
        "\n",
        "history_df.loc[:, ['categorical_accuracy', 'val_categorical_accuracy']].plot(title=\"Accuracy\")\n",
        "plt.savefig(\"img/acc_{}.png\".format(MODEL))"
      ],
      "execution_count": 12,
      "outputs": [
        {
          "output_type": "stream",
          "name": "stdout",
          "text": [
            "Model: \"sequential\"\n",
            "_________________________________________________________________\n",
            " Layer (type)                Output Shape              Param #   \n",
            "=================================================================\n",
            " conv2d (Conv2D)             (None, 28, 28, 6)         156       \n",
            "                                                                 \n",
            " average_pooling2d (AverageP  (None, 14, 14, 6)        0         \n",
            " ooling2D)                                                       \n",
            "                                                                 \n",
            " conv2d_1 (Conv2D)           (None, 10, 10, 16)        2416      \n",
            "                                                                 \n",
            " average_pooling2d_1 (Averag  (None, 5, 5, 16)         0         \n",
            " ePooling2D)                                                     \n",
            "                                                                 \n",
            " flatten (Flatten)           (None, 400)               0         \n",
            "                                                                 \n",
            " dense (Dense)               (None, 120)               48120     \n",
            "                                                                 \n",
            " dense_1 (Dense)             (None, 84)                10164     \n",
            "                                                                 \n",
            " dense_2 (Dense)             (None, 10)                850       \n",
            "                                                                 \n",
            "=================================================================\n",
            "Total params: 61,706\n",
            "Trainable params: 61,706\n",
            "Non-trainable params: 0\n",
            "_________________________________________________________________\n"
          ]
        },
        {
          "output_type": "display_data",
          "data": {
            "image/png": "[encoded data removed]",
            "text/plain": [
              "<Figure size 432x288 with 1 Axes>"
            ]
          },
          "metadata": {
            "needs_background": "light"
          }
        },
        {
          "output_type": "display_data",
          "data": {
            "image/png": "[encoded data removed]",
            "text/plain": [
              "<Figure size 432x288 with 1 Axes>"
            ]
          },
          "metadata": {
            "needs_background": "light"
          }
        }
      ]
    },
    {
      "cell_type": "code",
      "metadata": {
        "id": "0V9DXrs45lU-"
      },
      "source": [
        "y_test = model.predict(x_test)\n",
        "y_test = np.argmax(y_test, axis=1)\n",
        "\n",
        "submission = pd.DataFrame(columns=['ImageId', 'Label'])\n",
        "submission['ImageId'] = range(1, 1+len(y_test))\n",
        "submission['Label'] = y_test\n",
        "\n",
        "submission.to_csv('digit-recognizer/submission_{}.csv'.format(MODEL), index=False)"
      ],
      "execution_count": 13,
      "outputs": []
    },
    {
      "cell_type": "code",
      "metadata": {
        "colab": {
          "base_uri": "https://localhost:8080/",
          "height": 419
        },
        "id": "fLN8eq4S9UbT",
        "outputId": "984e7e94-9ae3-4d2e-f59d-9ac51b2e99f5"
      },
      "source": [
        "my_submission = pd.read_csv('digit-recognizer/submission_{}.csv'.format(MODEL))\n",
        "my_submission"
      ],
      "execution_count": 14,
      "outputs": [
        {
          "output_type": "execute_result",
          "data": {
            "text/html": [
              "<div>\n",
              "<style scoped>\n",
              "    .dataframe tbody tr th:only-of-type {\n",
              "        vertical-align: middle;\n",
              "    }\n",
              "\n",
              "    .dataframe tbody tr th {\n",
              "        vertical-align: top;\n",
              "    }\n",
              "\n",
              "    .dataframe thead th {\n",
              "        text-align: right;\n",
              "    }\n",
              "</style>\n",
              "<table border=\"1\" class=\"dataframe\">\n",
              "  <thead>\n",
              "    <tr style=\"text-align: right;\">\n",
              "      <th></th>\n",
              "      <th>ImageId</th>\n",
              "      <th>Label</th>\n",
              "    </tr>\n",
              "  </thead>\n",
              "  <tbody>\n",
              "    <tr>\n",
              "      <th>0</th>\n",
              "      <td>1</td>\n",
              "      <td>2</td>\n",
              "    </tr>\n",
              "    <tr>\n",
              "      <th>1</th>\n",
              "      <td>2</td>\n",
              "      <td>0</td>\n",
              "    </tr>\n",
              "    <tr>\n",
              "      <th>2</th>\n",
              "      <td>3</td>\n",
              "      <td>9</td>\n",
              "    </tr>\n",
              "    <tr>\n",
              "      <th>3</th>\n",
              "      <td>4</td>\n",
              "      <td>9</td>\n",
              "    </tr>\n",
              "    <tr>\n",
              "      <th>4</th>\n",
              "      <td>5</td>\n",
              "      <td>3</td>\n",
              "    </tr>\n",
              "    <tr>\n",
              "      <th>...</th>\n",
              "      <td>...</td>\n",
              "      <td>...</td>\n",
              "    </tr>\n",
              "    <tr>\n",
              "      <th>27995</th>\n",
              "      <td>27996</td>\n",
              "      <td>9</td>\n",
              "    </tr>\n",
              "    <tr>\n",
              "      <th>27996</th>\n",
              "      <td>27997</td>\n",
              "      <td>7</td>\n",
              "    </tr>\n",
              "    <tr>\n",
              "      <th>27997</th>\n",
              "      <td>27998</td>\n",
              "      <td>3</td>\n",
              "    </tr>\n",
              "    <tr>\n",
              "      <th>27998</th>\n",
              "      <td>27999</td>\n",
              "      <td>9</td>\n",
              "    </tr>\n",
              "    <tr>\n",
              "      <th>27999</th>\n",
              "      <td>28000</td>\n",
              "      <td>2</td>\n",
              "    </tr>\n",
              "  </tbody>\n",
              "</table>\n",
              "<p>28000 rows × 2 columns</p>\n",
              "</div>"
            ],
            "text/plain": [
              "       ImageId  Label\n",
              "0            1      2\n",
              "1            2      0\n",
              "2            3      9\n",
              "3            4      9\n",
              "4            5      3\n",
              "...        ...    ...\n",
              "27995    27996      9\n",
              "27996    27997      7\n",
              "27997    27998      3\n",
              "27998    27999      9\n",
              "27999    28000      2\n",
              "\n",
              "[28000 rows x 2 columns]"
            ]
          },
          "metadata": {},
          "execution_count": 14
        }
      ]
    },
    {
      "cell_type": "markdown",
      "metadata": {
        "id": "HtGaz4zvlF3L"
      },
      "source": [
        "## Experiment"
      ]
    },
    {
      "cell_type": "code",
      "metadata": {
        "colab": {
          "base_uri": "https://localhost:8080/"
        },
        "id": "mgBBPe4MLUU0",
        "outputId": "7929f6ce-7574-4ada-d2b8-a6a1ed1782bf"
      },
      "source": [
        "a = np.array([\n",
        "    [0, 0, 0, 0, 0, 0, 0, 0], \n",
        "    [1, 1, 1, 1, 1, 1, 1, 1], \n",
        "    [2, 2, 2, 2, 2, 2, 2, 2]\n",
        "])\n",
        "\n",
        "print(a.reshape(3, 2, 4))"
      ],
      "execution_count": null,
      "outputs": [
        {
          "name": "stdout",
          "output_type": "stream",
          "text": [
            "[[[0 0 0 0]\n",
            "  [0 0 0 0]]\n",
            "\n",
            " [[1 1 1 1]\n",
            "  [1 1 1 1]]\n",
            "\n",
            " [[2 2 2 2]\n",
            "  [2 2 2 2]]]\n"
          ]
        }
      ]
    }
  ]
}